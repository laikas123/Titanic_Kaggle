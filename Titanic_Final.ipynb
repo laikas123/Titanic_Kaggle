{
 "cells": [
  {
   "cell_type": "code",
   "execution_count": 50,
   "metadata": {},
   "outputs": [],
   "source": [
    "import pandas as pd\n",
    "import os \n",
    "\n",
    "TITANIC_PATH = os.path.join(\"datasets\", \"titanic\") \n",
    "\n",
    "def load_titanic_data(titanic_path=TITANIC_PATH):\n",
    "    csv_path = os.path.join(titanic_path + \"\\\\train.csv\")\n",
    "    return pd.read_csv(csv_path)\n",
    "\n",
    "def load_titaninc_test_data(titanic_path=TITANIC_PATH):\n",
    "    csv_path = os.path.join(titanic_path + \"\\\\test.csv\")\n",
    "    return pd.read_csv(csv_path)\n",
    "\n",
    "titanic_data = load_titanic_data()"
   ]
  },
  {
   "cell_type": "code",
   "execution_count": 51,
   "metadata": {},
   "outputs": [
    {
     "name": "stdout",
     "output_type": "stream",
     "text": [
      "<class 'pandas.core.frame.DataFrame'>\n",
      "RangeIndex: 891 entries, 0 to 890\n",
      "Data columns (total 12 columns):\n",
      " #   Column       Non-Null Count  Dtype  \n",
      "---  ------       --------------  -----  \n",
      " 0   PassengerId  891 non-null    int64  \n",
      " 1   Survived     891 non-null    int64  \n",
      " 2   Pclass       891 non-null    int64  \n",
      " 3   Name         891 non-null    object \n",
      " 4   Sex          891 non-null    object \n",
      " 5   Age          714 non-null    float64\n",
      " 6   SibSp        891 non-null    int64  \n",
      " 7   Parch        891 non-null    int64  \n",
      " 8   Ticket       891 non-null    object \n",
      " 9   Fare         891 non-null    float64\n",
      " 10  Cabin        204 non-null    object \n",
      " 11  Embarked     889 non-null    object \n",
      "dtypes: float64(2), int64(5), object(5)\n",
      "memory usage: 83.7+ KB\n"
     ]
    }
   ],
   "source": [
    "titanic_data.info()"
   ]
  },
  {
   "cell_type": "code",
   "execution_count": 52,
   "metadata": {},
   "outputs": [
    {
     "data": {
      "text/plain": [
       "0       NaN\n",
       "1       C85\n",
       "2       NaN\n",
       "3      C123\n",
       "4       NaN\n",
       "       ... \n",
       "886     NaN\n",
       "887     B42\n",
       "888     NaN\n",
       "889    C148\n",
       "890     NaN\n",
       "Name: Cabin, Length: 891, dtype: object"
      ]
     },
     "execution_count": 52,
     "metadata": {},
     "output_type": "execute_result"
    }
   ],
   "source": [
    "titanic_data[\"Cabin\"]"
   ]
  },
  {
   "cell_type": "code",
   "execution_count": 53,
   "metadata": {},
   "outputs": [],
   "source": [
    "ticketsfirstdigits = []\n",
    "for x in titanic_data[\"Ticket\"]:\n",
    "    ticketsfirstdigits.append(ord(str(x)[0]))\n",
    "\n",
    "#note, in testing it was shown that adding this category\n",
    "#yields a much higher success when fitting the data\n",
    "titanic_data[\"First_Digit\"] = ticketsfirstdigits"
   ]
  },
  {
   "cell_type": "code",
   "execution_count": 54,
   "metadata": {},
   "outputs": [
    {
     "name": "stdout",
     "output_type": "stream",
     "text": [
      "<class 'pandas.core.frame.DataFrame'>\n",
      "RangeIndex: 891 entries, 0 to 890\n",
      "Data columns (total 13 columns):\n",
      " #   Column       Non-Null Count  Dtype  \n",
      "---  ------       --------------  -----  \n",
      " 0   PassengerId  891 non-null    int64  \n",
      " 1   Survived     891 non-null    int64  \n",
      " 2   Pclass       891 non-null    int64  \n",
      " 3   Name         891 non-null    object \n",
      " 4   Sex          891 non-null    object \n",
      " 5   Age          714 non-null    float64\n",
      " 6   SibSp        891 non-null    int64  \n",
      " 7   Parch        891 non-null    int64  \n",
      " 8   Ticket       891 non-null    object \n",
      " 9   Fare         891 non-null    float64\n",
      " 10  Cabin        204 non-null    object \n",
      " 11  Embarked     889 non-null    object \n",
      " 12  First_Digit  891 non-null    int64  \n",
      "dtypes: float64(2), int64(6), object(5)\n",
      "memory usage: 90.6+ KB\n"
     ]
    }
   ],
   "source": [
    "titanic_data.info()"
   ]
  },
  {
   "cell_type": "code",
   "execution_count": 55,
   "metadata": {},
   "outputs": [],
   "source": [
    "y_train = titanic_data[\"Survived\"]"
   ]
  },
  {
   "cell_type": "code",
   "execution_count": 56,
   "metadata": {},
   "outputs": [],
   "source": [
    "X_train = titanic_data.drop(\"Survived\", axis = 1)"
   ]
  },
  {
   "cell_type": "code",
   "execution_count": 57,
   "metadata": {},
   "outputs": [
    {
     "name": "stdout",
     "output_type": "stream",
     "text": [
      "<class 'pandas.core.frame.DataFrame'>\n",
      "RangeIndex: 891 entries, 0 to 890\n",
      "Data columns (total 12 columns):\n",
      " #   Column       Non-Null Count  Dtype  \n",
      "---  ------       --------------  -----  \n",
      " 0   PassengerId  891 non-null    int64  \n",
      " 1   Pclass       891 non-null    int64  \n",
      " 2   Name         891 non-null    object \n",
      " 3   Sex          891 non-null    object \n",
      " 4   Age          714 non-null    float64\n",
      " 5   SibSp        891 non-null    int64  \n",
      " 6   Parch        891 non-null    int64  \n",
      " 7   Ticket       891 non-null    object \n",
      " 8   Fare         891 non-null    float64\n",
      " 9   Cabin        204 non-null    object \n",
      " 10  Embarked     889 non-null    object \n",
      " 11  First_Digit  891 non-null    int64  \n",
      "dtypes: float64(2), int64(5), object(5)\n",
      "memory usage: 83.7+ KB\n"
     ]
    }
   ],
   "source": [
    "X_train.info()"
   ]
  },
  {
   "cell_type": "code",
   "execution_count": 58,
   "metadata": {},
   "outputs": [],
   "source": [
    "from sklearn.preprocessing import OrdinalEncoder\n",
    "\n",
    "sex_category = titanic_data[[\"Sex\"]]\n",
    "ordinal_encoder = OrdinalEncoder()\n",
    "sex_category_encoded = ordinal_encoder.fit_transform(sex_category)"
   ]
  },
  {
   "cell_type": "code",
   "execution_count": null,
   "metadata": {},
   "outputs": [],
   "source": []
  },
  {
   "cell_type": "code",
   "execution_count": 59,
   "metadata": {},
   "outputs": [
    {
     "data": {
      "text/plain": [
       "array([0.8013468 , 0.75757576, 0.80808081])"
      ]
     },
     "execution_count": 59,
     "metadata": {},
     "output_type": "execute_result"
    }
   ],
   "source": [
    "from sklearn.model_selection import cross_val_score\n",
    "from sklearn.ensemble import RandomForestClassifier\n",
    "forest_clf = RandomForestClassifier(n_estimators=100, random_state=42)\n",
    "\n",
    "modifiedX_train = X_train.drop(\"Age\", axis = 1)\n",
    "modifiedX_train = modifiedX_train.drop(\"Cabin\", axis = 1)\n",
    "modifiedX_train = modifiedX_train.drop(\"Embarked\", axis = 1)\n",
    "modifiedX_train = modifiedX_train.drop(\"Name\", axis = 1)\n",
    "modifiedX_train = modifiedX_train.drop(\"Ticket\", axis = 1)\n",
    "\n",
    "\n",
    "\n",
    "modifiedX_train[\"Sex\"] = sex_category_encoded\n",
    "\n",
    "cross_val_score(forest_clf, modifiedX_train, y_train, cv=3, scoring=\"accuracy\")"
   ]
  },
  {
   "cell_type": "code",
   "execution_count": 60,
   "metadata": {},
   "outputs": [
    {
     "data": {
      "text/html": [
       "<div>\n",
       "<style scoped>\n",
       "    .dataframe tbody tr th:only-of-type {\n",
       "        vertical-align: middle;\n",
       "    }\n",
       "\n",
       "    .dataframe tbody tr th {\n",
       "        vertical-align: top;\n",
       "    }\n",
       "\n",
       "    .dataframe thead th {\n",
       "        text-align: right;\n",
       "    }\n",
       "</style>\n",
       "<table border=\"1\" class=\"dataframe\">\n",
       "  <thead>\n",
       "    <tr style=\"text-align: right;\">\n",
       "      <th></th>\n",
       "      <th>PassengerId</th>\n",
       "      <th>Survived</th>\n",
       "      <th>Pclass</th>\n",
       "      <th>Name</th>\n",
       "      <th>Sex</th>\n",
       "      <th>Age</th>\n",
       "      <th>SibSp</th>\n",
       "      <th>Parch</th>\n",
       "      <th>Ticket</th>\n",
       "      <th>Fare</th>\n",
       "      <th>Cabin</th>\n",
       "      <th>Embarked</th>\n",
       "      <th>First_Digit</th>\n",
       "    </tr>\n",
       "  </thead>\n",
       "  <tbody>\n",
       "    <tr>\n",
       "      <th>0</th>\n",
       "      <td>1</td>\n",
       "      <td>0</td>\n",
       "      <td>3</td>\n",
       "      <td>Braund, Mr. Owen Harris</td>\n",
       "      <td>male</td>\n",
       "      <td>22.0</td>\n",
       "      <td>1</td>\n",
       "      <td>0</td>\n",
       "      <td>A/5 21171</td>\n",
       "      <td>7.2500</td>\n",
       "      <td>NaN</td>\n",
       "      <td>S</td>\n",
       "      <td>65</td>\n",
       "    </tr>\n",
       "    <tr>\n",
       "      <th>1</th>\n",
       "      <td>2</td>\n",
       "      <td>1</td>\n",
       "      <td>1</td>\n",
       "      <td>Cumings, Mrs. John Bradley (Florence Briggs Th...</td>\n",
       "      <td>female</td>\n",
       "      <td>38.0</td>\n",
       "      <td>1</td>\n",
       "      <td>0</td>\n",
       "      <td>PC 17599</td>\n",
       "      <td>71.2833</td>\n",
       "      <td>C85</td>\n",
       "      <td>C</td>\n",
       "      <td>80</td>\n",
       "    </tr>\n",
       "    <tr>\n",
       "      <th>2</th>\n",
       "      <td>3</td>\n",
       "      <td>1</td>\n",
       "      <td>3</td>\n",
       "      <td>Heikkinen, Miss. Laina</td>\n",
       "      <td>female</td>\n",
       "      <td>26.0</td>\n",
       "      <td>0</td>\n",
       "      <td>0</td>\n",
       "      <td>STON/O2. 3101282</td>\n",
       "      <td>7.9250</td>\n",
       "      <td>NaN</td>\n",
       "      <td>S</td>\n",
       "      <td>83</td>\n",
       "    </tr>\n",
       "    <tr>\n",
       "      <th>3</th>\n",
       "      <td>4</td>\n",
       "      <td>1</td>\n",
       "      <td>1</td>\n",
       "      <td>Futrelle, Mrs. Jacques Heath (Lily May Peel)</td>\n",
       "      <td>female</td>\n",
       "      <td>35.0</td>\n",
       "      <td>1</td>\n",
       "      <td>0</td>\n",
       "      <td>113803</td>\n",
       "      <td>53.1000</td>\n",
       "      <td>C123</td>\n",
       "      <td>S</td>\n",
       "      <td>49</td>\n",
       "    </tr>\n",
       "    <tr>\n",
       "      <th>4</th>\n",
       "      <td>5</td>\n",
       "      <td>0</td>\n",
       "      <td>3</td>\n",
       "      <td>Allen, Mr. William Henry</td>\n",
       "      <td>male</td>\n",
       "      <td>35.0</td>\n",
       "      <td>0</td>\n",
       "      <td>0</td>\n",
       "      <td>373450</td>\n",
       "      <td>8.0500</td>\n",
       "      <td>NaN</td>\n",
       "      <td>S</td>\n",
       "      <td>51</td>\n",
       "    </tr>\n",
       "  </tbody>\n",
       "</table>\n",
       "</div>"
      ],
      "text/plain": [
       "   PassengerId  Survived  Pclass  \\\n",
       "0            1         0       3   \n",
       "1            2         1       1   \n",
       "2            3         1       3   \n",
       "3            4         1       1   \n",
       "4            5         0       3   \n",
       "\n",
       "                                                Name     Sex   Age  SibSp  \\\n",
       "0                            Braund, Mr. Owen Harris    male  22.0      1   \n",
       "1  Cumings, Mrs. John Bradley (Florence Briggs Th...  female  38.0      1   \n",
       "2                             Heikkinen, Miss. Laina  female  26.0      0   \n",
       "3       Futrelle, Mrs. Jacques Heath (Lily May Peel)  female  35.0      1   \n",
       "4                           Allen, Mr. William Henry    male  35.0      0   \n",
       "\n",
       "   Parch            Ticket     Fare Cabin Embarked  First_Digit  \n",
       "0      0         A/5 21171   7.2500   NaN        S           65  \n",
       "1      0          PC 17599  71.2833   C85        C           80  \n",
       "2      0  STON/O2. 3101282   7.9250   NaN        S           83  \n",
       "3      0            113803  53.1000  C123        S           49  \n",
       "4      0            373450   8.0500   NaN        S           51  "
      ]
     },
     "execution_count": 60,
     "metadata": {},
     "output_type": "execute_result"
    }
   ],
   "source": [
    "titanic_data.head()"
   ]
  },
  {
   "cell_type": "code",
   "execution_count": 61,
   "metadata": {},
   "outputs": [
    {
     "data": {
      "image/png": "[encoded data removed]",
      "text/plain": [
       "<Figure size 1440x1080 with 9 Axes>"
      ]
     },
     "metadata": {
      "needs_background": "light"
     },
     "output_type": "display_data"
    }
   ],
   "source": [
    "%matplotlib inline\n",
    "import matplotlib.pyplot as plt\n",
    "titanic_data.hist(bins=50, figsize=(20,15))\n",
    "\n",
    "plt.show()"
   ]
  },
  {
   "cell_type": "code",
   "execution_count": 63,
   "metadata": {},
   "outputs": [],
   "source": [
    "uniquepassengerId = np.unique(titanic_data[\"PassengerId\"])"
   ]
  },
  {
   "cell_type": "code",
   "execution_count": 64,
   "metadata": {},
   "outputs": [
    {
     "data": {
      "text/plain": [
       "891"
      ]
     },
     "execution_count": 64,
     "metadata": {},
     "output_type": "execute_result"
    }
   ],
   "source": [
    "#no duplicates\n",
    "len(uniquepassengerId)"
   ]
  },
  {
   "cell_type": "code",
   "execution_count": 82,
   "metadata": {},
   "outputs": [
    {
     "name": "stdout",
     "output_type": "stream",
     "text": [
      "Survived has duplicates\n",
      "Pclass has duplicates\n",
      "Age has duplicates\n",
      "SibSp has duplicates\n",
      "Parch has duplicates\n",
      "Fare has duplicates\n",
      "First_Digit has duplicates\n"
     ]
    }
   ],
   "source": [
    "\n",
    "def printColumnsWithDuplicateValues(dataset, lengthUniqueNeeded):\n",
    "    index = 0\n",
    "    for x in dataset:\n",
    "        index = index+1\n",
    "        #object types and string types almost certain to have duplicates\n",
    "        #eg cabin, and name...\n",
    "        if dataset[x].dtype == str or dataset[x].dtype == object:\n",
    "            continue\n",
    "        unique = np.unique(dataset[x])    \n",
    "        lengthUnique = len(unique)\n",
    "        if(lengthUnique < lengthUniqueNeeded):\n",
    "            print(x, \"has duplicates\")\n",
    "        \n",
    "printColumnsWithDuplicateValues(titanic_data, 891)\n",
    "    "
   ]
  },
  {
   "cell_type": "code",
   "execution_count": 84,
   "metadata": {},
   "outputs": [
    {
     "data": {
      "text/plain": [
       "<AxesSubplot:xlabel='First_Digit', ylabel='Pclass'>"
      ]
     },
     "execution_count": 84,
     "metadata": {},
     "output_type": "execute_result"
    },
    {
     "data": {
      "image/png": "[encoded data removed]",
      "text/plain": [
       "<Figure size 432x288 with 1 Axes>"
      ]
     },
     "metadata": {
      "needs_background": "light"
     },
     "output_type": "display_data"
    }
   ],
   "source": [
    "titanic_data.plot(kind=\"scatter\", x=\"First_Digit\", y=\"Pclass\")\n"
   ]
  },
  {
   "cell_type": "code",
   "execution_count": 89,
   "metadata": {},
   "outputs": [
    {
     "data": {
      "text/plain": [
       "array([[<AxesSubplot:xlabel='First_Digit', ylabel='First_Digit'>,\n",
       "        <AxesSubplot:xlabel='Age', ylabel='First_Digit'>,\n",
       "        <AxesSubplot:xlabel='SibSp', ylabel='First_Digit'>,\n",
       "        <AxesSubplot:xlabel='Parch', ylabel='First_Digit'>,\n",
       "        <AxesSubplot:xlabel='Pclass', ylabel='First_Digit'>],\n",
       "       [<AxesSubplot:xlabel='First_Digit', ylabel='Age'>,\n",
       "        <AxesSubplot:xlabel='Age', ylabel='Age'>,\n",
       "        <AxesSubplot:xlabel='SibSp', ylabel='Age'>,\n",
       "        <AxesSubplot:xlabel='Parch', ylabel='Age'>,\n",
       "        <AxesSubplot:xlabel='Pclass', ylabel='Age'>],\n",
       "       [<AxesSubplot:xlabel='First_Digit', ylabel='SibSp'>,\n",
       "        <AxesSubplot:xlabel='Age', ylabel='SibSp'>,\n",
       "        <AxesSubplot:xlabel='SibSp', ylabel='SibSp'>,\n",
       "        <AxesSubplot:xlabel='Parch', ylabel='SibSp'>,\n",
       "        <AxesSubplot:xlabel='Pclass', ylabel='SibSp'>],\n",
       "       [<AxesSubplot:xlabel='First_Digit', ylabel='Parch'>,\n",
       "        <AxesSubplot:xlabel='Age', ylabel='Parch'>,\n",
       "        <AxesSubplot:xlabel='SibSp', ylabel='Parch'>,\n",
       "        <AxesSubplot:xlabel='Parch', ylabel='Parch'>,\n",
       "        <AxesSubplot:xlabel='Pclass', ylabel='Parch'>],\n",
       "       [<AxesSubplot:xlabel='First_Digit', ylabel='Pclass'>,\n",
       "        <AxesSubplot:xlabel='Age', ylabel='Pclass'>,\n",
       "        <AxesSubplot:xlabel='SibSp', ylabel='Pclass'>,\n",
       "        <AxesSubplot:xlabel='Parch', ylabel='Pclass'>,\n",
       "        <AxesSubplot:xlabel='Pclass', ylabel='Pclass'>]], dtype=object)"
      ]
     },
     "execution_count": 89,
     "metadata": {},
     "output_type": "execute_result"
    },
    {
     "data": {
      "image/png": "[encoded data removed]",
      "text/plain": [
       "<Figure size 864x576 with 25 Axes>"
      ]
     },
     "metadata": {
      "needs_background": "light"
     },
     "output_type": "display_data"
    }
   ],
   "source": [
    "# from pandas.tools.plotting import scatter_matrix # For older versions of Pandas\n",
    "from pandas.plotting import scatter_matrix\n",
    "\n",
    "attributes = [\"First_Digit\", \"Age\", \"SibSp\",\n",
    "              \"Parch\", \"Pclass\"]\n",
    "scatter_matrix(titanic_data[attributes], figsize=(12, 8))\n"
   ]
  },
  {
   "cell_type": "code",
   "execution_count": 91,
   "metadata": {},
   "outputs": [
    {
     "name": "stdout",
     "output_type": "stream",
     "text": [
      "891\n"
     ]
    }
   ],
   "source": [
    "def classifyAge(age):\n",
    "    if age >= 0 and age <= 17:\n",
    "        #child\n",
    "        return 0\n",
    "    elif age >= 18 and age <= 36:\n",
    "        #adult\n",
    "        return 1\n",
    "    elif age >= 37 and age <= 56:\n",
    "        #middle age\n",
    "        return 2\n",
    "    elif age >= 57:\n",
    "        #senior\n",
    "        return 3\n",
    "    else:\n",
    "        return -1\n",
    "    \n",
    "ageClassified = []\n",
    "for x in titanic_data[\"Age\"]:\n",
    "    ageClassified.append(classifyAge(x))\n",
    "\n",
    "print(len(ageClassified))"
   ]
  },
  {
   "cell_type": "code",
   "execution_count": 92,
   "metadata": {},
   "outputs": [],
   "source": [
    "titanic_data[\"Age_Clf\"] = ageClassified"
   ]
  },
  {
   "cell_type": "code",
   "execution_count": 93,
   "metadata": {},
   "outputs": [
    {
     "data": {
      "text/plain": [
       "1    406\n",
       "3    213\n",
       "2    159\n",
       "0    113\n",
       "Name: Age_Clf, dtype: int64"
      ]
     },
     "execution_count": 93,
     "metadata": {},
     "output_type": "execute_result"
    }
   ],
   "source": [
    "titanic_data[\"Age_Clf\"].value_counts()"
   ]
  },
  {
   "cell_type": "code",
   "execution_count": 94,
   "metadata": {},
   "outputs": [
    {
     "data": {
      "text/plain": [
       "array([[<AxesSubplot:xlabel='First_Digit', ylabel='First_Digit'>,\n",
       "        <AxesSubplot:xlabel='Age_Clf', ylabel='First_Digit'>,\n",
       "        <AxesSubplot:xlabel='SibSp', ylabel='First_Digit'>,\n",
       "        <AxesSubplot:xlabel='Parch', ylabel='First_Digit'>,\n",
       "        <AxesSubplot:xlabel='Pclass', ylabel='First_Digit'>],\n",
       "       [<AxesSubplot:xlabel='First_Digit', ylabel='Age_Clf'>,\n",
       "        <AxesSubplot:xlabel='Age_Clf', ylabel='Age_Clf'>,\n",
       "        <AxesSubplot:xlabel='SibSp', ylabel='Age_Clf'>,\n",
       "        <AxesSubplot:xlabel='Parch', ylabel='Age_Clf'>,\n",
       "        <AxesSubplot:xlabel='Pclass', ylabel='Age_Clf'>],\n",
       "       [<AxesSubplot:xlabel='First_Digit', ylabel='SibSp'>,\n",
       "        <AxesSubplot:xlabel='Age_Clf', ylabel='SibSp'>,\n",
       "        <AxesSubplot:xlabel='SibSp', ylabel='SibSp'>,\n",
       "        <AxesSubplot:xlabel='Parch', ylabel='SibSp'>,\n",
       "        <AxesSubplot:xlabel='Pclass', ylabel='SibSp'>],\n",
       "       [<AxesSubplot:xlabel='First_Digit', ylabel='Parch'>,\n",
       "        <AxesSubplot:xlabel='Age_Clf', ylabel='Parch'>,\n",
       "        <AxesSubplot:xlabel='SibSp', ylabel='Parch'>,\n",
       "        <AxesSubplot:xlabel='Parch', ylabel='Parch'>,\n",
       "        <AxesSubplot:xlabel='Pclass', ylabel='Parch'>],\n",
       "       [<AxesSubplot:xlabel='First_Digit', ylabel='Pclass'>,\n",
       "        <AxesSubplot:xlabel='Age_Clf', ylabel='Pclass'>,\n",
       "        <AxesSubplot:xlabel='SibSp', ylabel='Pclass'>,\n",
       "        <AxesSubplot:xlabel='Parch', ylabel='Pclass'>,\n",
       "        <AxesSubplot:xlabel='Pclass', ylabel='Pclass'>]], dtype=object)"
      ]
     },
     "execution_count": 94,
     "metadata": {},
     "output_type": "execute_result"
    },
    {
     "data": {
      "image/png": "[encoded data removed]",
      "text/plain": [
       "<Figure size 864x576 with 25 Axes>"
      ]
     },
     "metadata": {
      "needs_background": "light"
     },
     "output_type": "display_data"
    }
   ],
   "source": [
    "# from pandas.tools.plotting import scatter_matrix # For older versions of Pandas\n",
    "from pandas.plotting import scatter_matrix\n",
    "\n",
    "attributes = [\"First_Digit\", \"Age_Clf\", \"SibSp\",\n",
    "              \"Parch\", \"Pclass\"]\n",
    "scatter_matrix(titanic_data[attributes], figsize=(12, 8))\n"
   ]
  },
  {
   "cell_type": "code",
   "execution_count": 106,
   "metadata": {},
   "outputs": [
    {
     "name": "stdout",
     "output_type": "stream",
     "text": [
      "891\n"
     ]
    }
   ],
   "source": [
    "import math\n",
    "cabin_first_digit = []\n",
    "for x in titanic_data[\"Cabin\"]:\n",
    "    if(str(x) != \"nan\"):\n",
    "        cabin_first_digit.append(ord(str(x)[0]))\n",
    "    else:\n",
    "        cabin_first_digit.append(-1)\n",
    "\n",
    "\n",
    "titanic_data[\"Cabin_First_Digit\"] = cabin_first_digit\n",
    "print(len(titanic_data[\"Cabin_First_Digit\"]))"
   ]
  },
  {
   "cell_type": "code",
   "execution_count": 107,
   "metadata": {},
   "outputs": [
    {
     "data": {
      "text/plain": [
       "array([[<AxesSubplot:xlabel='First_Digit', ylabel='First_Digit'>,\n",
       "        <AxesSubplot:xlabel='Age_Clf', ylabel='First_Digit'>,\n",
       "        <AxesSubplot:xlabel='SibSp', ylabel='First_Digit'>,\n",
       "        <AxesSubplot:xlabel='Parch', ylabel='First_Digit'>,\n",
       "        <AxesSubplot:xlabel='Pclass', ylabel='First_Digit'>,\n",
       "        <AxesSubplot:xlabel='Cabin_First_Digit', ylabel='First_Digit'>],\n",
       "       [<AxesSubplot:xlabel='First_Digit', ylabel='Age_Clf'>,\n",
       "        <AxesSubplot:xlabel='Age_Clf', ylabel='Age_Clf'>,\n",
       "        <AxesSubplot:xlabel='SibSp', ylabel='Age_Clf'>,\n",
       "        <AxesSubplot:xlabel='Parch', ylabel='Age_Clf'>,\n",
       "        <AxesSubplot:xlabel='Pclass', ylabel='Age_Clf'>,\n",
       "        <AxesSubplot:xlabel='Cabin_First_Digit', ylabel='Age_Clf'>],\n",
       "       [<AxesSubplot:xlabel='First_Digit', ylabel='SibSp'>,\n",
       "        <AxesSubplot:xlabel='Age_Clf', ylabel='SibSp'>,\n",
       "        <AxesSubplot:xlabel='SibSp', ylabel='SibSp'>,\n",
       "        <AxesSubplot:xlabel='Parch', ylabel='SibSp'>,\n",
       "        <AxesSubplot:xlabel='Pclass', ylabel='SibSp'>,\n",
       "        <AxesSubplot:xlabel='Cabin_First_Digit', ylabel='SibSp'>],\n",
       "       [<AxesSubplot:xlabel='First_Digit', ylabel='Parch'>,\n",
       "        <AxesSubplot:xlabel='Age_Clf', ylabel='Parch'>,\n",
       "        <AxesSubplot:xlabel='SibSp', ylabel='Parch'>,\n",
       "        <AxesSubplot:xlabel='Parch', ylabel='Parch'>,\n",
       "        <AxesSubplot:xlabel='Pclass', ylabel='Parch'>,\n",
       "        <AxesSubplot:xlabel='Cabin_First_Digit', ylabel='Parch'>],\n",
       "       [<AxesSubplot:xlabel='First_Digit', ylabel='Pclass'>,\n",
       "        <AxesSubplot:xlabel='Age_Clf', ylabel='Pclass'>,\n",
       "        <AxesSubplot:xlabel='SibSp', ylabel='Pclass'>,\n",
       "        <AxesSubplot:xlabel='Parch', ylabel='Pclass'>,\n",
       "        <AxesSubplot:xlabel='Pclass', ylabel='Pclass'>,\n",
       "        <AxesSubplot:xlabel='Cabin_First_Digit', ylabel='Pclass'>],\n",
       "       [<AxesSubplot:xlabel='First_Digit', ylabel='Cabin_First_Digit'>,\n",
       "        <AxesSubplot:xlabel='Age_Clf', ylabel='Cabin_First_Digit'>,\n",
       "        <AxesSubplot:xlabel='SibSp', ylabel='Cabin_First_Digit'>,\n",
       "        <AxesSubplot:xlabel='Parch', ylabel='Cabin_First_Digit'>,\n",
       "        <AxesSubplot:xlabel='Pclass', ylabel='Cabin_First_Digit'>,\n",
       "        <AxesSubplot:xlabel='Cabin_First_Digit', ylabel='Cabin_First_Digit'>]],\n",
       "      dtype=object)"
      ]
     },
     "execution_count": 107,
     "metadata": {},
     "output_type": "execute_result"
    },
    {
     "data": {
      "image/png": "[encoded data removed]",
      "text/plain": [
       "<Figure size 864x576 with 36 Axes>"
      ]
     },
     "metadata": {
      "needs_background": "light"
     },
     "output_type": "display_data"
    }
   ],
   "source": [
    "# from pandas.tools.plotting import scatter_matrix # For older versions of Pandas\n",
    "from pandas.plotting import scatter_matrix\n",
    "\n",
    "attributes = [\"First_Digit\", \"Age_Clf\", \"SibSp\",\n",
    "              \"Fare\", \"Pclass\", \"Cabin_First_Digit\"]\n",
    "scatter_matrix(titanic_data[attributes], figsize=(12, 8))\n"
   ]
  },
  {
   "cell_type": "code",
   "execution_count": 111,
   "metadata": {},
   "outputs": [
    {
     "data": {
      "text/plain": [
       "<AxesSubplot:xlabel='Cabin_First_Digit', ylabel='Pclass'>"
      ]
     },
     "execution_count": 111,
     "metadata": {},
     "output_type": "execute_result"
    },
    {
     "data": {
      "image/png": "[encoded data removed]",
      "text/plain": [
       "<Figure size 432x288 with 1 Axes>"
      ]
     },
     "metadata": {
      "needs_background": "light"
     },
     "output_type": "display_data"
    },
    {
     "data": {
      "image/png": "[encoded data removed]",
      "text/plain": [
       "<Figure size 432x288 with 1 Axes>"
      ]
     },
     "metadata": {
      "needs_background": "light"
     },
     "output_type": "display_data"
    }
   ],
   "source": [
    "\n",
    "plt.axis([-2, 80, 0, 4])\n",
    "titanic_data.plot(kind=\"scatter\", x=\"Cabin_First_Digit\", y=\"Pclass\")\n"
   ]
  },
  {
   "cell_type": "code",
   "execution_count": 115,
   "metadata": {},
   "outputs": [
    {
     "name": "stdout",
     "output_type": "stream",
     "text": [
      "PassengerId  Pclass  Sex  SibSp  Parch  Fare    First_Digit\n",
      "891          3       1.0  0      0      7.750   51             1\n",
      "293          2       1.0  0      0      12.875  83             1\n",
      "304          2       0.0  0      0      12.350  50             1\n",
      "303          3       1.0  0      0      0.000   76             1\n",
      "302          3       1.0  2      0      23.250  51             1\n",
      "                                                              ..\n",
      "591          3       1.0  0      0      7.125   83             1\n",
      "590          3       1.0  0      0      8.050   65             1\n",
      "589          3       1.0  0      0      8.050   49             1\n",
      "588          1       1.0  1      1      79.200  49             1\n",
      "1            3       1.0  1      0      7.250   65             1\n",
      "Length: 891, dtype: int64\n"
     ]
    },
    {
     "data": {
      "text/plain": [
       "array([0.8013468 , 0.75757576, 0.80808081])"
      ]
     },
     "execution_count": 115,
     "metadata": {},
     "output_type": "execute_result"
    }
   ],
   "source": [
    "forest_clf = RandomForestClassifier(n_estimators=100, random_state=42)\n",
    "\n",
    "modifiedX_train = X_train.drop(\"Age\", axis = 1)\n",
    "modifiedX_train = modifiedX_train.drop(\"Cabin\", axis = 1)\n",
    "modifiedX_train = modifiedX_train.drop(\"Embarked\", axis = 1)\n",
    "modifiedX_train = modifiedX_train.drop(\"Name\", axis = 1)\n",
    "modifiedX_train = modifiedX_train.drop(\"Ticket\", axis = 1)\n",
    "\n",
    "\n",
    "\n",
    "modifiedX_train[\"Sex\"] = sex_category_encoded\n",
    "print(modifiedX_train.value_counts())\n",
    "\n",
    "cross_val_score(forest_clf, modifiedX_train, y_train, cv=3, scoring=\"accuracy\")"
   ]
  },
  {
   "cell_type": "code",
   "execution_count": 116,
   "metadata": {},
   "outputs": [
    {
     "name": "stdout",
     "output_type": "stream",
     "text": [
      "<class 'pandas.core.frame.DataFrame'>\n",
      "RangeIndex: 891 entries, 0 to 890\n",
      "Data columns (total 7 columns):\n",
      " #   Column       Non-Null Count  Dtype  \n",
      "---  ------       --------------  -----  \n",
      " 0   PassengerId  891 non-null    int64  \n",
      " 1   Pclass       891 non-null    int64  \n",
      " 2   Sex          891 non-null    float64\n",
      " 3   SibSp        891 non-null    int64  \n",
      " 4   Parch        891 non-null    int64  \n",
      " 5   Fare         891 non-null    float64\n",
      " 6   First_Digit  891 non-null    int64  \n",
      "dtypes: float64(2), int64(5)\n",
      "memory usage: 48.9 KB\n"
     ]
    }
   ],
   "source": [
    "modifiedX_train.info()"
   ]
  },
  {
   "cell_type": "code",
   "execution_count": 123,
   "metadata": {},
   "outputs": [],
   "source": [
    "modifiedX_train[\"Age_Clf\"] = ageClassified\n",
    "modifiedX_train[\"Cabin_First_Digit\"] = cabin_first_digit\n"
   ]
  },
  {
   "cell_type": "code",
   "execution_count": 124,
   "metadata": {},
   "outputs": [
    {
     "data": {
      "text/plain": [
       "array([0.77653631, 0.79775281, 0.87640449, 0.80898876, 0.79775281])"
      ]
     },
     "execution_count": 124,
     "metadata": {},
     "output_type": "execute_result"
    }
   ],
   "source": [
    "cross_val_score(forest_clf, modifiedX_train, y_train, cv=5, scoring=\"accuracy\")"
   ]
  },
  {
   "cell_type": "code",
   "execution_count": 126,
   "metadata": {},
   "outputs": [
    {
     "data": {
      "text/plain": [
       "GridSearchCV(cv=5, estimator=RandomForestClassifier(),\n",
       "             param_grid=[{'max_features': ['auto', 'log2'],\n",
       "                          'n_estimators': [2, 4, 6, 8, 10, 20, 30]}],\n",
       "             return_train_score=True, scoring='neg_mean_squared_error')"
      ]
     },
     "execution_count": 126,
     "metadata": {},
     "output_type": "execute_result"
    }
   ],
   "source": [
    "#here we use a grid search to see the best paramters for KNeighborsClassifier\n",
    "#given our scaled X training data and y training data\n",
    "\n",
    "from sklearn.model_selection import GridSearchCV\n",
    "\n",
    "forest_clf = RandomForestClassifier()\n",
    "\n",
    "param_grid = [\n",
    "    {'n_estimators': [2, 4, 6, 8, 10, 20, 30], 'max_features': ['auto', 'log2']},\n",
    "  ]\n",
    "\n",
    "grid_search = GridSearchCV(forest_clf, param_grid, cv=5,\n",
    "                           scoring='neg_mean_squared_error',\n",
    "                           return_train_score=True)\n",
    "grid_search.fit(modifiedX_train, y_train)"
   ]
  },
  {
   "cell_type": "code",
   "execution_count": 129,
   "metadata": {},
   "outputs": [
    {
     "name": "stdout",
     "output_type": "stream",
     "text": [
      "{'max_features': 'auto', 'n_estimators': 30}\n"
     ]
    }
   ],
   "source": [
    "print(grid_search.best_params_)\n",
    "#here we set the best paramaters found from grid_search\n",
    "# forest_clf.set_params(grid_search.best_params_)\n",
    "# #make sure the params were set correctly\n",
    "# print(forest_clf.get_params())\n",
    "best_forest_clf = RandomForestClassifier(n_estimators=30, max_features=\"auto\")"
   ]
  },
  {
   "cell_type": "code",
   "execution_count": 130,
   "metadata": {},
   "outputs": [
    {
     "name": "stdout",
     "output_type": "stream",
     "text": [
      "{'bootstrap': True, 'ccp_alpha': 0.0, 'class_weight': None, 'criterion': 'gini', 'max_depth': None, 'max_features': 'auto', 'max_leaf_nodes': None, 'max_samples': None, 'min_impurity_decrease': 0.0, 'min_impurity_split': None, 'min_samples_leaf': 1, 'min_samples_split': 2, 'min_weight_fraction_leaf': 0.0, 'n_estimators': 30, 'n_jobs': None, 'oob_score': False, 'random_state': None, 'verbose': 0, 'warm_start': False}\n"
     ]
    }
   ],
   "source": [
    "print(best_forest_clf.get_params())"
   ]
  },
  {
   "cell_type": "code",
   "execution_count": 131,
   "metadata": {},
   "outputs": [
    {
     "data": {
      "text/plain": [
       "array([0.7979798 , 0.81481481, 0.78114478])"
      ]
     },
     "execution_count": 131,
     "metadata": {},
     "output_type": "execute_result"
    }
   ],
   "source": [
    "cross_val_score(best_forest_clf, modifiedX_train, y_train, cv=3, scoring=\"accuracy\")"
   ]
  },
  {
   "cell_type": "code",
   "execution_count": 134,
   "metadata": {},
   "outputs": [
    {
     "data": {
      "text/html": [
       "<div>\n",
       "<style scoped>\n",
       "    .dataframe tbody tr th:only-of-type {\n",
       "        vertical-align: middle;\n",
       "    }\n",
       "\n",
       "    .dataframe tbody tr th {\n",
       "        vertical-align: top;\n",
       "    }\n",
       "\n",
       "    .dataframe thead th {\n",
       "        text-align: right;\n",
       "    }\n",
       "</style>\n",
       "<table border=\"1\" class=\"dataframe\">\n",
       "  <thead>\n",
       "    <tr style=\"text-align: right;\">\n",
       "      <th></th>\n",
       "      <th>PassengerId</th>\n",
       "      <th>Survived</th>\n",
       "      <th>Pclass</th>\n",
       "      <th>Age</th>\n",
       "      <th>SibSp</th>\n",
       "      <th>Parch</th>\n",
       "      <th>Fare</th>\n",
       "      <th>First_Digit</th>\n",
       "      <th>Age_Clf</th>\n",
       "      <th>Cabin_First_Digit</th>\n",
       "    </tr>\n",
       "  </thead>\n",
       "  <tbody>\n",
       "    <tr>\n",
       "      <th>count</th>\n",
       "      <td>891.000000</td>\n",
       "      <td>891.000000</td>\n",
       "      <td>891.000000</td>\n",
       "      <td>714.000000</td>\n",
       "      <td>891.000000</td>\n",
       "      <td>891.000000</td>\n",
       "      <td>891.000000</td>\n",
       "      <td>891.000000</td>\n",
       "      <td>891.000000</td>\n",
       "      <td>891.000000</td>\n",
       "    </tr>\n",
       "    <tr>\n",
       "      <th>mean</th>\n",
       "      <td>446.000000</td>\n",
       "      <td>0.383838</td>\n",
       "      <td>2.308642</td>\n",
       "      <td>29.699118</td>\n",
       "      <td>0.523008</td>\n",
       "      <td>0.381594</td>\n",
       "      <td>32.204208</td>\n",
       "      <td>57.099888</td>\n",
       "      <td>1.529742</td>\n",
       "      <td>14.672278</td>\n",
       "    </tr>\n",
       "    <tr>\n",
       "      <th>std</th>\n",
       "      <td>257.353842</td>\n",
       "      <td>0.486592</td>\n",
       "      <td>0.836071</td>\n",
       "      <td>14.526497</td>\n",
       "      <td>1.102743</td>\n",
       "      <td>0.806057</td>\n",
       "      <td>49.693429</td>\n",
       "      <td>12.026941</td>\n",
       "      <td>0.990949</td>\n",
       "      <td>28.790181</td>\n",
       "    </tr>\n",
       "    <tr>\n",
       "      <th>min</th>\n",
       "      <td>1.000000</td>\n",
       "      <td>0.000000</td>\n",
       "      <td>1.000000</td>\n",
       "      <td>0.420000</td>\n",
       "      <td>0.000000</td>\n",
       "      <td>0.000000</td>\n",
       "      <td>0.000000</td>\n",
       "      <td>49.000000</td>\n",
       "      <td>0.000000</td>\n",
       "      <td>-1.000000</td>\n",
       "    </tr>\n",
       "    <tr>\n",
       "      <th>25%</th>\n",
       "      <td>223.500000</td>\n",
       "      <td>0.000000</td>\n",
       "      <td>2.000000</td>\n",
       "      <td>20.125000</td>\n",
       "      <td>0.000000</td>\n",
       "      <td>0.000000</td>\n",
       "      <td>7.910400</td>\n",
       "      <td>50.000000</td>\n",
       "      <td>1.000000</td>\n",
       "      <td>-1.000000</td>\n",
       "    </tr>\n",
       "    <tr>\n",
       "      <th>50%</th>\n",
       "      <td>446.000000</td>\n",
       "      <td>0.000000</td>\n",
       "      <td>3.000000</td>\n",
       "      <td>28.000000</td>\n",
       "      <td>0.000000</td>\n",
       "      <td>0.000000</td>\n",
       "      <td>14.454200</td>\n",
       "      <td>51.000000</td>\n",
       "      <td>1.000000</td>\n",
       "      <td>-1.000000</td>\n",
       "    </tr>\n",
       "    <tr>\n",
       "      <th>75%</th>\n",
       "      <td>668.500000</td>\n",
       "      <td>1.000000</td>\n",
       "      <td>3.000000</td>\n",
       "      <td>38.000000</td>\n",
       "      <td>1.000000</td>\n",
       "      <td>0.000000</td>\n",
       "      <td>31.000000</td>\n",
       "      <td>65.000000</td>\n",
       "      <td>2.000000</td>\n",
       "      <td>-1.000000</td>\n",
       "    </tr>\n",
       "    <tr>\n",
       "      <th>max</th>\n",
       "      <td>891.000000</td>\n",
       "      <td>1.000000</td>\n",
       "      <td>3.000000</td>\n",
       "      <td>80.000000</td>\n",
       "      <td>8.000000</td>\n",
       "      <td>6.000000</td>\n",
       "      <td>512.329200</td>\n",
       "      <td>87.000000</td>\n",
       "      <td>3.000000</td>\n",
       "      <td>84.000000</td>\n",
       "    </tr>\n",
       "  </tbody>\n",
       "</table>\n",
       "</div>"
      ],
      "text/plain": [
       "       PassengerId    Survived      Pclass         Age       SibSp  \\\n",
       "count   891.000000  891.000000  891.000000  714.000000  891.000000   \n",
       "mean    446.000000    0.383838    2.308642   29.699118    0.523008   \n",
       "std     257.353842    0.486592    0.836071   14.526497    1.102743   \n",
       "min       1.000000    0.000000    1.000000    0.420000    0.000000   \n",
       "25%     223.500000    0.000000    2.000000   20.125000    0.000000   \n",
       "50%     446.000000    0.000000    3.000000   28.000000    0.000000   \n",
       "75%     668.500000    1.000000    3.000000   38.000000    1.000000   \n",
       "max     891.000000    1.000000    3.000000   80.000000    8.000000   \n",
       "\n",
       "            Parch        Fare  First_Digit     Age_Clf  Cabin_First_Digit  \n",
       "count  891.000000  891.000000   891.000000  891.000000         891.000000  \n",
       "mean     0.381594   32.204208    57.099888    1.529742          14.672278  \n",
       "std      0.806057   49.693429    12.026941    0.990949          28.790181  \n",
       "min      0.000000    0.000000    49.000000    0.000000          -1.000000  \n",
       "25%      0.000000    7.910400    50.000000    1.000000          -1.000000  \n",
       "50%      0.000000   14.454200    51.000000    1.000000          -1.000000  \n",
       "75%      0.000000   31.000000    65.000000    2.000000          -1.000000  \n",
       "max      6.000000  512.329200    87.000000    3.000000          84.000000  "
      ]
     },
     "execution_count": 134,
     "metadata": {},
     "output_type": "execute_result"
    }
   ],
   "source": [
    "titanic_data.describe()"
   ]
  },
  {
   "cell_type": "code",
   "execution_count": 135,
   "metadata": {},
   "outputs": [
    {
     "name": "stdout",
     "output_type": "stream",
     "text": [
      "891\n"
     ]
    }
   ],
   "source": [
    "def classifyAge(age):\n",
    "    if age >= 0 and age <= 17:\n",
    "        #child\n",
    "        return 0\n",
    "    elif age >= 18 and age <= 36:\n",
    "        #adult\n",
    "        return 1\n",
    "    elif age >= 37 and age <= 56:\n",
    "        #middle age\n",
    "        return 2\n",
    "    elif age >= 57:\n",
    "        #senior\n",
    "        return 3\n",
    "    else:\n",
    "        return -1\n",
    "    \n",
    "ageClassified = []\n",
    "for x in titanic_data[\"Age\"]:\n",
    "    ageClassified.append(classifyAge(x))\n",
    "\n",
    "print(len(ageClassified))"
   ]
  },
  {
   "cell_type": "code",
   "execution_count": 136,
   "metadata": {},
   "outputs": [],
   "source": [
    "titanic_data[\"Age_Clf\"] = ageClassified"
   ]
  },
  {
   "cell_type": "code",
   "execution_count": 137,
   "metadata": {},
   "outputs": [
    {
     "data": {
      "text/plain": [
       " 1    406\n",
       "-1    178\n",
       " 2    159\n",
       " 0    113\n",
       " 3     35\n",
       "Name: Age_Clf, dtype: int64"
      ]
     },
     "execution_count": 137,
     "metadata": {},
     "output_type": "execute_result"
    }
   ],
   "source": [
    "titanic_data[\"Age_Clf\"].value_counts()"
   ]
  },
  {
   "cell_type": "code",
   "execution_count": 138,
   "metadata": {},
   "outputs": [
    {
     "name": "stdout",
     "output_type": "stream",
     "text": [
      "<class 'pandas.core.frame.DataFrame'>\n",
      "RangeIndex: 891 entries, 0 to 890\n",
      "Data columns (total 15 columns):\n",
      " #   Column             Non-Null Count  Dtype  \n",
      "---  ------             --------------  -----  \n",
      " 0   PassengerId        891 non-null    int64  \n",
      " 1   Survived           891 non-null    int64  \n",
      " 2   Pclass             891 non-null    int64  \n",
      " 3   Name               891 non-null    object \n",
      " 4   Sex                891 non-null    object \n",
      " 5   Age                714 non-null    float64\n",
      " 6   SibSp              891 non-null    int64  \n",
      " 7   Parch              891 non-null    int64  \n",
      " 8   Ticket             891 non-null    object \n",
      " 9   Fare               891 non-null    float64\n",
      " 10  Cabin              204 non-null    object \n",
      " 11  Embarked           889 non-null    object \n",
      " 12  First_Digit        891 non-null    int64  \n",
      " 13  Age_Clf            891 non-null    int64  \n",
      " 14  Cabin_First_Digit  891 non-null    int64  \n",
      "dtypes: float64(2), int64(8), object(5)\n",
      "memory usage: 104.5+ KB\n"
     ]
    }
   ],
   "source": [
    "titanic_data.info()"
   ]
  },
  {
   "cell_type": "code",
   "execution_count": 139,
   "metadata": {},
   "outputs": [],
   "source": [
    "newXTrain = titanic_data.drop(\"Age\", axis = 1)\n",
    "newXTrain = newXTrain.drop(\"Cabin\", axis = 1)"
   ]
  },
  {
   "cell_type": "code",
   "execution_count": 140,
   "metadata": {},
   "outputs": [
    {
     "name": "stdout",
     "output_type": "stream",
     "text": [
      "<class 'pandas.core.frame.DataFrame'>\n",
      "RangeIndex: 891 entries, 0 to 890\n",
      "Data columns (total 13 columns):\n",
      " #   Column             Non-Null Count  Dtype  \n",
      "---  ------             --------------  -----  \n",
      " 0   PassengerId        891 non-null    int64  \n",
      " 1   Survived           891 non-null    int64  \n",
      " 2   Pclass             891 non-null    int64  \n",
      " 3   Name               891 non-null    object \n",
      " 4   Sex                891 non-null    object \n",
      " 5   SibSp              891 non-null    int64  \n",
      " 6   Parch              891 non-null    int64  \n",
      " 7   Ticket             891 non-null    object \n",
      " 8   Fare               891 non-null    float64\n",
      " 9   Embarked           889 non-null    object \n",
      " 10  First_Digit        891 non-null    int64  \n",
      " 11  Age_Clf            891 non-null    int64  \n",
      " 12  Cabin_First_Digit  891 non-null    int64  \n",
      "dtypes: float64(1), int64(8), object(4)\n",
      "memory usage: 90.6+ KB\n"
     ]
    }
   ],
   "source": [
    "newXTrain.info()"
   ]
  },
  {
   "cell_type": "code",
   "execution_count": 143,
   "metadata": {},
   "outputs": [],
   "source": [
    "hadAFamilyMember = []"
   ]
  },
  {
   "cell_type": "code",
   "execution_count": 145,
   "metadata": {},
   "outputs": [],
   "source": [
    "index = 0\n",
    "for family in titanic_data[\"SibSp\"]:\n",
    "    family2 = titanic_data[\"Parch\"][index]\n",
    "    if(family > 0 or family2 > 0):\n",
    "        hadAFamilyMember.append(1)\n",
    "    else:\n",
    "        hadAFamilyMember.append(0)\n",
    "    index = index + 1"
   ]
  },
  {
   "cell_type": "code",
   "execution_count": 146,
   "metadata": {},
   "outputs": [
    {
     "name": "stdout",
     "output_type": "stream",
     "text": [
      "891\n"
     ]
    }
   ],
   "source": [
    "print(len(hadAFamilyMember))"
   ]
  },
  {
   "cell_type": "code",
   "execution_count": 149,
   "metadata": {},
   "outputs": [
    {
     "name": "stdout",
     "output_type": "stream",
     "text": [
      "1 0 1\n",
      "1 0 1\n",
      "0 0 0\n",
      "1 0 1\n",
      "0 0 0\n",
      "0 0 0\n",
      "0 0 0\n",
      "1 1 3\n",
      "1 2 0\n",
      "1 0 1\n",
      "1 1 1\n",
      "0 0 0\n",
      "0 0 0\n",
      "1 5 1\n",
      "0 0 0\n",
      "0 0 0\n",
      "1 1 4\n",
      "0 0 0\n",
      "1 0 1\n",
      "0 0 0\n",
      "0 0 0\n",
      "0 0 0\n",
      "0 0 0\n",
      "0 0 0\n",
      "1 1 3\n",
      "1 5 1\n",
      "0 0 0\n",
      "1 2 3\n",
      "0 0 0\n",
      "0 0 0\n",
      "0 0 0\n",
      "1 0 1\n",
      "0 0 0\n",
      "0 0 0\n",
      "1 0 1\n",
      "1 0 1\n",
      "0 0 0\n",
      "0 0 0\n",
      "1 0 2\n",
      "1 0 1\n",
      "1 0 1\n",
      "1 0 1\n",
      "0 0 0\n",
      "1 2 1\n",
      "0 0 0\n",
      "0 0 0\n",
      "1 0 1\n",
      "0 0 0\n",
      "1 0 2\n",
      "1 0 1\n",
      "1 1 4\n",
      "0 0 0\n",
      "1 0 1\n",
      "1 0 1\n",
      "1 1 0\n",
      "0 0 0\n",
      "0 0 0\n",
      "0 0 0\n",
      "1 2 1\n",
      "1 2 5\n",
      "0 0 0\n",
      "0 0 0\n",
      "1 0 1\n",
      "1 2 3\n",
      "0 0 0\n",
      "1 1 1\n",
      "0 0 0\n",
      "0 0 0\n",
      "1 2 4\n",
      "1 0 2\n",
      "0 0 0\n",
      "1 2 5\n",
      "0 0 0\n",
      "1 0 1\n",
      "0 0 0\n",
      "0 0 0\n",
      "0 0 0\n",
      "0 0 0\n",
      "1 2 0\n",
      "0 0 0\n",
      "0 0 0\n",
      "0 0 0\n",
      "0 0 0\n",
      "0 0 0\n",
      "0 0 0\n",
      "1 0 3\n",
      "1 3 1\n",
      "0 0 0\n",
      "1 2 3\n",
      "0 0 0\n",
      "0 0 0\n",
      "0 0 0\n",
      "1 0 1\n",
      "1 2 1\n",
      "0 0 0\n",
      "0 0 0\n",
      "0 0 0\n",
      "1 1 0\n",
      "1 1 0\n",
      "1 0 1\n",
      "0 0 0\n",
      "0 0 0\n",
      "1 1 0\n",
      "0 0 0\n",
      "1 0 2\n",
      "0 0 0\n",
      "0 0 0\n",
      "0 0 0\n",
      "0 0 0\n",
      "1 0 1\n",
      "0 0 0\n",
      "1 0 1\n",
      "0 0 0\n",
      "1 0 1\n",
      "0 0 0\n",
      "0 0 0\n",
      "0 0 0\n",
      "1 0 1\n",
      "1 1 0\n",
      "1 2 4\n",
      "1 0 2\n",
      "0 0 0\n",
      "1 0 1\n",
      "0 0 0\n",
      "1 1 0\n",
      "1 0 1\n",
      "0 0 0\n",
      "0 0 0\n",
      "1 1 1\n",
      "0 0 0\n",
      "0 0 0\n",
      "0 0 0\n",
      "1 0 1\n",
      "1 0 1\n",
      "0 0 0\n",
      "0 0 0\n",
      "1 2 0\n",
      "1 0 1\n",
      "0 0 0\n",
      "0 0 0\n",
      "1 2 0\n",
      "0 0 0\n",
      "1 0 1\n",
      "0 0 0\n",
      "0 0 0\n",
      "1 1 1\n",
      "0 0 0\n",
      "1 2 2\n",
      "1 2 0\n",
      "0 0 0\n",
      "0 0 0\n",
      "1 0 1\n",
      "0 0 0\n",
      "1 2 0\n",
      "0 0 0\n",
      "1 1 0\n",
      "0 0 0\n",
      "0 0 0\n",
      "0 0 0\n",
      "1 2 8\n",
      "1 1 0\n",
      "0 0 0\n",
      "0 0 0\n",
      "0 0 0\n",
      "1 1 4\n",
      "1 2 0\n",
      "1 1 0\n",
      "1 4 1\n",
      "0 0 0\n",
      "0 0 0\n",
      "0 0 0\n",
      "1 1 4\n",
      "1 1 1\n",
      "0 0 0\n",
      "0 0 0\n",
      "1 1 1\n",
      "1 1 3\n",
      "0 0 0\n",
      "0 0 0\n",
      "0 0 0\n",
      "1 2 8\n",
      "0 0 0\n",
      "1 2 4\n",
      "1 1 2\n",
      "1 2 0\n",
      "0 0 0\n",
      "1 0 1\n",
      "0 0 0\n",
      "1 1 1\n",
      "0 0 0\n",
      "0 0 0\n",
      "0 0 0\n",
      "1 0 1\n",
      "1 1 1\n",
      "0 0 0\n",
      "0 0 0\n",
      "0 0 0\n",
      "1 1 0\n",
      "0 0 0\n",
      "0 0 0\n",
      "0 0 0\n",
      "1 2 8\n",
      "0 0 0\n",
      "0 0 0\n",
      "0 0 0\n",
      "1 1 0\n",
      "1 0 1\n",
      "0 0 0\n",
      "0 0 0\n",
      "0 0 0\n",
      "0 0 0\n",
      "0 0 0\n",
      "0 0 0\n",
      "0 0 0\n",
      "1 0 1\n",
      "1 0 1\n",
      "0 0 0\n",
      "1 0 1\n",
      "0 0 0\n",
      "0 0 0\n",
      "0 0 0\n",
      "0 0 0\n",
      "0 0 0\n",
      "0 0 0\n",
      "1 0 1\n",
      "0 0 0\n",
      "0 0 0\n",
      "0 0 0\n",
      "0 0 0\n",
      "1 1 3\n",
      "1 0 1\n",
      "0 0 0\n",
      "0 0 0\n",
      "1 2 4\n",
      "0 0 0\n",
      "0 0 0\n",
      "1 0 1\n",
      "1 2 0\n",
      "0 0 0\n",
      "0 0 0\n",
      "1 0 1\n",
      "1 0 1\n",
      "0 0 0\n",
      "0 0 0\n",
      "0 0 0\n",
      "1 0 2\n",
      "0 0 0\n",
      "1 2 0\n",
      "1 1 1\n",
      "1 0 1\n",
      "0 0 0\n",
      "1 1 1\n",
      "0 0 0\n",
      "1 0 1\n",
      "1 2 0\n",
      "1 2 0\n",
      "0 0 0\n",
      "0 0 0\n",
      "0 0 0\n",
      "1 1 0\n",
      "0 0 0\n",
      "1 2 4\n",
      "1 1 1\n",
      "0 0 0\n",
      "0 0 0\n",
      "0 0 0\n",
      "1 1 4\n",
      "1 0 1\n",
      "1 1 0\n",
      "0 0 0\n",
      "0 0 0\n",
      "0 0 0\n",
      "1 1 0\n",
      "1 1 0\n",
      "0 0 0\n",
      "1 0 1\n",
      "0 0 0\n",
      "0 0 0\n",
      "1 1 4\n",
      "1 1 1\n",
      "0 0 0\n",
      "0 0 0\n",
      "0 0 0\n",
      "0 0 0\n",
      "0 0 0\n",
      "0 0 0\n",
      "0 0 0\n",
      "0 0 0\n",
      "0 0 0\n",
      "0 0 0\n",
      "0 0 0\n",
      "1 0 1\n",
      "0 0 0\n",
      "0 0 0\n",
      "0 0 0\n",
      "0 0 0\n",
      "0 0 0\n",
      "1 2 1\n",
      "0 0 0\n",
      "1 1 0\n",
      "0 0 0\n",
      "1 0 2\n",
      "0 0 0\n",
      "0 0 0\n",
      "0 0 0\n",
      "1 2 1\n",
      "0 0 0\n",
      "1 0 1\n",
      "1 0 1\n",
      "0 0 0\n",
      "0 0 0\n",
      "1 2 2\n",
      "1 1 1\n",
      "0 0 0\n",
      "1 1 1\n",
      "0 0 0\n",
      "1 0 1\n",
      "0 0 0\n",
      "1 2 0\n",
      "1 1 1\n",
      "0 0 0\n",
      "0 0 0\n",
      "0 0 0\n",
      "1 1 1\n",
      "1 2 8\n",
      "0 0 0\n",
      "0 0 0\n",
      "0 0 0\n",
      "1 1 1\n",
      "1 1 0\n",
      "1 0 2\n",
      "0 0 0\n",
      "1 1 0\n",
      "1 0 2\n",
      "1 0 1\n",
      "0 0 0\n",
      "1 0 1\n",
      "0 0 0\n",
      "0 0 0\n",
      "0 0 0\n",
      "1 1 1\n",
      "1 2 3\n",
      "0 0 0\n",
      "0 0 0\n",
      "0 0 0\n",
      "0 0 0\n",
      "0 0 0\n",
      "1 0 1\n",
      "1 1 1\n",
      "0 0 0\n",
      "0 0 0\n",
      "0 0 0\n",
      "1 1 1\n",
      "1 0 1\n",
      "0 0 0\n",
      "0 0 0\n",
      "1 1 0\n",
      "0 0 0\n",
      "0 0 0\n",
      "0 0 0\n",
      "1 4 1\n",
      "1 0 1\n",
      "1 1 0\n",
      "0 0 0\n",
      "1 0 1\n",
      "0 0 0\n",
      "1 0 1\n",
      "0 0 0\n",
      "0 0 0\n",
      "0 0 0\n",
      "1 0 1\n",
      "1 0 1\n",
      "0 0 0\n",
      "0 0 0\n",
      "1 1 3\n",
      "1 0 1\n",
      "0 0 0\n",
      "1 2 0\n",
      "0 0 0\n",
      "0 0 0\n",
      "0 0 0\n",
      "1 2 0\n",
      "0 0 0\n",
      "1 0 1\n",
      "0 0 0\n",
      "0 0 0\n",
      "1 2 5\n",
      "0 0 0\n",
      "0 0 0\n",
      "0 0 0\n",
      "1 2 1\n",
      "0 0 0\n",
      "1 0 2\n",
      "1 0 1\n",
      "1 2 0\n",
      "0 0 0\n",
      "0 0 0\n",
      "0 0 0\n",
      "0 0 0\n",
      "0 0 0\n",
      "0 0 0\n",
      "0 0 0\n",
      "1 0 1\n",
      "1 0 1\n",
      "0 0 0\n",
      "1 0 1\n",
      "0 0 0\n",
      "1 1 1\n",
      "0 0 0\n",
      "1 1 3\n",
      "0 0 0\n",
      "0 0 0\n",
      "1 0 1\n",
      "0 0 0\n",
      "0 0 0\n",
      "0 0 0\n",
      "1 1 1\n",
      "1 2 0\n",
      "0 0 0\n",
      "1 2 0\n",
      "0 0 0\n",
      "0 0 0\n",
      "0 0 0\n",
      "1 1 1\n",
      "1 1 1\n",
      "0 0 0\n",
      "1 0 1\n",
      "0 0 0\n",
      "0 0 0\n",
      "0 0 0\n",
      "0 0 0\n",
      "1 0 1\n",
      "1 0 1\n",
      "0 0 0\n",
      "1 0 1\n",
      "1 2 1\n",
      "1 2 2\n",
      "1 3 2\n",
      "1 4 1\n",
      "0 0 0\n",
      "1 1 1\n",
      "0 0 0\n",
      "1 0 1\n",
      "0 0 0\n",
      "0 0 0\n",
      "1 2 0\n",
      "1 1 0\n",
      "0 0 0\n",
      "1 1 2\n",
      "0 0 0\n",
      "1 2 1\n",
      "1 0 1\n",
      "0 0 0\n",
      "1 0 1\n",
      "0 0 0\n",
      "0 0 0\n",
      "0 0 0\n",
      "1 0 1\n",
      "0 0 0\n",
      "0 0 0\n",
      "0 0 0\n",
      "0 0 0\n",
      "0 0 0\n",
      "0 0 0\n",
      "0 0 0\n",
      "0 0 0\n",
      "0 0 0\n",
      "0 0 0\n",
      "0 0 0\n",
      "1 1 2\n",
      "0 0 0\n",
      "0 0 0\n",
      "1 2 1\n",
      "0 0 0\n",
      "0 0 0\n",
      "0 0 0\n",
      "1 0 1\n",
      "1 0 1\n",
      "0 0 0\n",
      "1 1 0\n",
      "1 2 5\n",
      "0 0 0\n",
      "0 0 0\n",
      "0 0 0\n",
      "1 0 1\n",
      "1 1 3\n",
      "1 0 1\n",
      "0 0 0\n",
      "0 0 0\n",
      "1 1 1\n",
      "1 0 1\n",
      "0 0 0\n",
      "0 0 0\n",
      "0 0 0\n",
      "0 0 0\n",
      "0 0 0\n",
      "1 0 1\n",
      "0 0 0\n",
      "1 2 1\n",
      "0 0 0\n",
      "0 0 0\n",
      "0 0 0\n",
      "0 0 0\n",
      "0 0 0\n",
      "0 0 0\n",
      "1 0 1\n",
      "1 2 0\n",
      "0 0 0\n",
      "0 0 0\n",
      "0 0 0\n",
      "0 0 0\n",
      "0 0 0\n",
      "0 0 0\n",
      "1 0 1\n",
      "0 0 0\n",
      "0 0 0\n",
      "0 0 0\n",
      "0 0 0\n",
      "1 0 1\n",
      "0 0 0\n",
      "0 0 0\n",
      "0 0 0\n",
      "0 0 0\n",
      "1 1 0\n",
      "0 0 0\n",
      "0 0 0\n",
      "0 0 0\n",
      "0 0 0\n",
      "0 0 0\n",
      "1 1 2\n",
      "1 1 1\n",
      "0 0 0\n",
      "1 1 1\n",
      "1 2 0\n",
      "0 0 0\n",
      "1 2 0\n",
      "0 0 0\n",
      "0 0 0\n",
      "0 0 0\n",
      "1 2 0\n",
      "1 2 0\n",
      "1 2 4\n",
      "1 2 4\n",
      "1 0 1\n",
      "1 0 1\n",
      "0 0 0\n",
      "1 0 1\n",
      "0 0 0\n",
      "1 1 1\n",
      "1 1 1\n",
      "1 2 0\n",
      "0 0 0\n",
      "0 0 0\n",
      "0 0 0\n",
      "0 0 0\n",
      "0 0 0\n",
      "1 0 1\n",
      "0 0 0\n",
      "1 1 1\n",
      "1 0 1\n",
      "0 0 0\n",
      "0 0 0\n",
      "0 0 0\n",
      "0 0 0\n",
      "0 0 0\n",
      "1 0 2\n",
      "0 0 0\n",
      "1 4 0\n",
      "0 0 0\n",
      "0 0 0\n",
      "0 0 0\n",
      "1 0 2\n",
      "0 0 0\n",
      "0 0 0\n",
      "0 0 0\n",
      "0 0 0\n",
      "0 0 0\n",
      "1 0 1\n",
      "1 0 1\n",
      "0 0 0\n",
      "1 1 1\n",
      "1 1 1\n",
      "0 0 0\n",
      "0 0 0\n",
      "0 0 0\n",
      "1 2 0\n",
      "0 0 0\n",
      "1 1 1\n",
      "0 0 0\n",
      "0 0 0\n",
      "0 0 0\n",
      "1 0 1\n",
      "0 0 0\n",
      "1 2 0\n",
      "1 0 1\n",
      "1 1 1\n",
      "0 0 0\n",
      "0 0 0\n",
      "0 0 0\n",
      "1 0 1\n",
      "1 1 2\n",
      "0 0 0\n",
      "0 0 0\n",
      "0 0 0\n",
      "0 0 0\n",
      "1 0 1\n",
      "0 0 0\n",
      "0 0 0\n",
      "1 2 1\n",
      "0 0 0\n",
      "1 5 1\n",
      "0 0 0\n",
      "1 0 1\n",
      "0 0 0\n",
      "0 0 0\n",
      "1 2 1\n",
      "1 1 1\n",
      "1 0 1\n",
      "1 1 2\n",
      "0 0 0\n",
      "1 0 1\n",
      "1 0 1\n",
      "1 1 1\n",
      "0 0 0\n",
      "0 0 0\n",
      "0 0 0\n",
      "0 0 0\n",
      "0 0 0\n",
      "0 0 0\n",
      "0 0 0\n",
      "0 0 0\n",
      "0 0 0\n",
      "0 0 0\n",
      "0 0 0\n",
      "1 2 3\n",
      "0 0 0\n",
      "0 0 0\n",
      "1 1 1\n",
      "1 5 0\n",
      "1 0 1\n",
      "0 0 0\n",
      "0 0 0\n",
      "1 2 3\n",
      "0 0 0\n",
      "1 1 2\n",
      "1 0 1\n",
      "0 0 0\n",
      "0 0 0\n",
      "0 0 0\n",
      "0 0 0\n",
      "0 0 0\n",
      "1 1 0\n",
      "0 0 0\n",
      "0 0 0\n",
      "0 0 0\n",
      "1 0 2\n",
      "0 0 0\n",
      "1 1 1\n",
      "0 0 0\n",
      "1 2 0\n",
      "1 0 2\n",
      "0 0 0\n",
      "0 0 0\n",
      "0 0 0\n",
      "1 0 1\n",
      "1 0 2\n",
      "0 0 0\n",
      "0 0 0\n",
      "0 0 0\n",
      "1 0 1\n",
      "1 1 1\n",
      "1 0 1\n",
      "0 0 0\n",
      "0 0 0\n",
      "0 0 0\n",
      "0 0 0\n",
      "0 0 0\n",
      "0 0 0\n",
      "1 6 1\n",
      "1 1 0\n",
      "0 0 0\n",
      "0 0 0\n",
      "0 0 0\n",
      "1 2 5\n",
      "1 1 1\n",
      "1 2 1\n",
      "1 1 4\n",
      "0 0 0\n",
      "0 0 0\n",
      "1 1 0\n",
      "1 0 1\n",
      "1 1 0\n",
      "0 0 0\n",
      "0 0 0\n",
      "0 0 0\n",
      "0 0 0\n",
      "0 0 0\n",
      "0 0 0\n",
      "1 1 1\n",
      "0 0 0\n",
      "1 0 1\n",
      "0 0 0\n",
      "1 1 0\n",
      "0 0 0\n",
      "1 0 1\n",
      "0 0 0\n",
      "0 0 0\n",
      "0 0 0\n",
      "0 0 0\n",
      "1 1 1\n",
      "0 0 0\n",
      "0 0 0\n",
      "1 0 1\n",
      "0 0 0\n",
      "0 0 0\n",
      "0 0 0\n",
      "0 0 0\n",
      "0 0 0\n",
      "0 0 0\n",
      "0 0 0\n",
      "1 1 0\n",
      "1 0 1\n",
      "0 0 0\n",
      "0 0 0\n",
      "1 0 1\n",
      "0 0 0\n",
      "1 0 3\n",
      "0 0 0\n",
      "1 0 1\n",
      "1 0 1\n",
      "0 0 0\n",
      "0 0 0\n",
      "0 0 0\n",
      "0 0 0\n",
      "0 0 0\n",
      "0 0 0\n",
      "1 3 1\n",
      "0 0 0\n",
      "0 0 0\n",
      "0 0 0\n",
      "0 0 0\n",
      "1 0 1\n",
      "1 2 2\n",
      "1 0 1\n",
      "0 0 0\n",
      "1 1 1\n",
      "1 1 1\n",
      "0 0 0\n",
      "1 0 1\n",
      "0 0 0\n",
      "1 1 1\n",
      "1 1 0\n",
      "0 0 0\n",
      "0 0 0\n",
      "1 2 1\n",
      "1 1 1\n",
      "0 0 0\n",
      "0 0 0\n",
      "0 0 0\n",
      "0 0 0\n",
      "0 0 0\n",
      "0 0 0\n",
      "0 0 0\n",
      "1 2 1\n",
      "0 0 0\n",
      "1 0 1\n",
      "0 0 0\n",
      "0 0 0\n",
      "1 0 1\n",
      "0 0 0\n",
      "0 0 0\n",
      "0 0 0\n",
      "0 0 0\n",
      "0 0 0\n",
      "1 3 1\n",
      "0 0 0\n",
      "0 0 0\n",
      "0 0 0\n",
      "0 0 0\n",
      "1 1 0\n",
      "0 0 0\n",
      "1 0 1\n",
      "0 0 0\n",
      "1 2 1\n",
      "0 0 0\n",
      "0 0 0\n",
      "0 0 0\n",
      "1 1 4\n",
      "1 2 1\n",
      "0 0 0\n",
      "0 0 0\n",
      "0 0 0\n",
      "1 2 8\n",
      "0 0 0\n",
      "0 0 0\n",
      "0 0 0\n",
      "0 0 0\n",
      "0 0 0\n",
      "0 0 0\n",
      "1 1 1\n",
      "0 0 0\n",
      "1 1 1\n",
      "1 2 1\n",
      "1 1 0\n",
      "0 0 0\n",
      "0 0 0\n",
      "0 0 0\n",
      "0 0 0\n",
      "0 0 0\n",
      "1 0 1\n",
      "0 0 0\n",
      "0 0 0\n",
      "0 0 0\n",
      "1 2 4\n",
      "0 0 0\n",
      "0 0 0\n",
      "0 0 0\n",
      "1 1 1\n",
      "0 0 0\n",
      "1 2 3\n",
      "1 1 1\n",
      "0 0 0\n",
      "0 0 0\n",
      "1 1 0\n",
      "1 1 4\n",
      "0 0 0\n",
      "0 0 0\n",
      "1 2 0\n",
      "0 0 0\n",
      "0 0 0\n",
      "1 0 1\n",
      "1 1 1\n",
      "0 0 0\n",
      "0 0 0\n",
      "0 0 0\n",
      "1 1 1\n",
      "0 0 0\n",
      "0 0 0\n",
      "0 0 0\n",
      "0 0 0\n",
      "0 0 0\n",
      "0 0 0\n",
      "0 0 0\n",
      "0 0 0\n",
      "0 0 0\n",
      "0 0 0\n",
      "1 2 8\n",
      "0 0 0\n",
      "1 1 0\n",
      "1 0 1\n",
      "1 2 4\n",
      "0 0 0\n",
      "1 1 1\n",
      "1 1 0\n",
      "1 0 1\n",
      "1 1 0\n",
      "1 1 1\n",
      "0 0 0\n",
      "1 3 0\n",
      "0 0 0\n",
      "1 0 2\n",
      "1 0 1\n",
      "0 0 0\n",
      "1 2 8\n",
      "0 0 0\n",
      "0 0 0\n",
      "1 0 1\n",
      "0 0 0\n",
      "0 0 0\n",
      "1 1 1\n",
      "0 0 0\n",
      "1 1 1\n",
      "0 0 0\n",
      "0 0 0\n",
      "1 0 1\n",
      "0 0 0\n",
      "0 0 0\n",
      "0 0 0\n",
      "0 0 0\n",
      "1 1 0\n",
      "1 1 0\n",
      "0 0 0\n",
      "0 0 0\n",
      "0 0 0\n",
      "0 0 0\n",
      "1 5 0\n",
      "0 0 0\n",
      "0 0 0\n",
      "1 2 1\n",
      "0 0 0\n",
      "0 0 0\n"
     ]
    }
   ],
   "source": [
    "index = 0\n",
    "for had in hadAFamilyMember:\n",
    "    print(had, titanic_data[\"Parch\"][index], titanic_data[\"SibSp\"][index])\n",
    "    index = index + 1"
   ]
  },
  {
   "cell_type": "code",
   "execution_count": 150,
   "metadata": {},
   "outputs": [
    {
     "name": "stdout",
     "output_type": "stream",
     "text": [
      "<class 'pandas.core.frame.DataFrame'>\n",
      "RangeIndex: 891 entries, 0 to 890\n",
      "Data columns (total 15 columns):\n",
      " #   Column             Non-Null Count  Dtype  \n",
      "---  ------             --------------  -----  \n",
      " 0   PassengerId        891 non-null    int64  \n",
      " 1   Survived           891 non-null    int64  \n",
      " 2   Pclass             891 non-null    int64  \n",
      " 3   Name               891 non-null    object \n",
      " 4   Sex                891 non-null    object \n",
      " 5   Age                714 non-null    float64\n",
      " 6   SibSp              891 non-null    int64  \n",
      " 7   Parch              891 non-null    int64  \n",
      " 8   Ticket             891 non-null    object \n",
      " 9   Fare               891 non-null    float64\n",
      " 10  Cabin              204 non-null    object \n",
      " 11  Embarked           889 non-null    object \n",
      " 12  First_Digit        891 non-null    int64  \n",
      " 13  Age_Clf            891 non-null    int64  \n",
      " 14  Cabin_First_Digit  891 non-null    int64  \n",
      "dtypes: float64(2), int64(8), object(5)\n",
      "memory usage: 104.5+ KB\n"
     ]
    }
   ],
   "source": [
    "titanic_data.info()"
   ]
  },
  {
   "cell_type": "code",
   "execution_count": 151,
   "metadata": {},
   "outputs": [],
   "source": [
    "titanic_data[\"Family_Member\"] = hadAFamilyMember"
   ]
  },
  {
   "cell_type": "code",
   "execution_count": 152,
   "metadata": {},
   "outputs": [
    {
     "name": "stdout",
     "output_type": "stream",
     "text": [
      "<class 'pandas.core.frame.DataFrame'>\n",
      "RangeIndex: 891 entries, 0 to 890\n",
      "Data columns (total 16 columns):\n",
      " #   Column             Non-Null Count  Dtype  \n",
      "---  ------             --------------  -----  \n",
      " 0   PassengerId        891 non-null    int64  \n",
      " 1   Survived           891 non-null    int64  \n",
      " 2   Pclass             891 non-null    int64  \n",
      " 3   Name               891 non-null    object \n",
      " 4   Sex                891 non-null    object \n",
      " 5   Age                714 non-null    float64\n",
      " 6   SibSp              891 non-null    int64  \n",
      " 7   Parch              891 non-null    int64  \n",
      " 8   Ticket             891 non-null    object \n",
      " 9   Fare               891 non-null    float64\n",
      " 10  Cabin              204 non-null    object \n",
      " 11  Embarked           889 non-null    object \n",
      " 12  First_Digit        891 non-null    int64  \n",
      " 13  Age_Clf            891 non-null    int64  \n",
      " 14  Cabin_First_Digit  891 non-null    int64  \n",
      " 15  Family_Member      891 non-null    int64  \n",
      "dtypes: float64(2), int64(9), object(5)\n",
      "memory usage: 111.5+ KB\n"
     ]
    }
   ],
   "source": [
    "titanic_data.info()"
   ]
  },
  {
   "cell_type": "code",
   "execution_count": 153,
   "metadata": {},
   "outputs": [],
   "source": [
    "newXTrain = X_train.drop(\"Age\", axis = 1)"
   ]
  },
  {
   "cell_type": "code",
   "execution_count": 155,
   "metadata": {},
   "outputs": [],
   "source": [
    "newXTrain = newXTrain.drop(\"Cabin\", axis = 1)"
   ]
  },
  {
   "cell_type": "code",
   "execution_count": 159,
   "metadata": {},
   "outputs": [
    {
     "data": {
      "text/plain": [
       "array([[<AxesSubplot:xlabel='First_Digit', ylabel='First_Digit'>,\n",
       "        <AxesSubplot:xlabel='Age_Clf', ylabel='First_Digit'>,\n",
       "        <AxesSubplot:xlabel='Fare', ylabel='First_Digit'>,\n",
       "        <AxesSubplot:xlabel='Pclass', ylabel='First_Digit'>,\n",
       "        <AxesSubplot:xlabel='Survived', ylabel='First_Digit'>],\n",
       "       [<AxesSubplot:xlabel='First_Digit', ylabel='Age_Clf'>,\n",
       "        <AxesSubplot:xlabel='Age_Clf', ylabel='Age_Clf'>,\n",
       "        <AxesSubplot:xlabel='Fare', ylabel='Age_Clf'>,\n",
       "        <AxesSubplot:xlabel='Pclass', ylabel='Age_Clf'>,\n",
       "        <AxesSubplot:xlabel='Survived', ylabel='Age_Clf'>],\n",
       "       [<AxesSubplot:xlabel='First_Digit', ylabel='Fare'>,\n",
       "        <AxesSubplot:xlabel='Age_Clf', ylabel='Fare'>,\n",
       "        <AxesSubplot:xlabel='Fare', ylabel='Fare'>,\n",
       "        <AxesSubplot:xlabel='Pclass', ylabel='Fare'>,\n",
       "        <AxesSubplot:xlabel='Survived', ylabel='Fare'>],\n",
       "       [<AxesSubplot:xlabel='First_Digit', ylabel='Pclass'>,\n",
       "        <AxesSubplot:xlabel='Age_Clf', ylabel='Pclass'>,\n",
       "        <AxesSubplot:xlabel='Fare', ylabel='Pclass'>,\n",
       "        <AxesSubplot:xlabel='Pclass', ylabel='Pclass'>,\n",
       "        <AxesSubplot:xlabel='Survived', ylabel='Pclass'>],\n",
       "       [<AxesSubplot:xlabel='First_Digit', ylabel='Survived'>,\n",
       "        <AxesSubplot:xlabel='Age_Clf', ylabel='Survived'>,\n",
       "        <AxesSubplot:xlabel='Fare', ylabel='Survived'>,\n",
       "        <AxesSubplot:xlabel='Pclass', ylabel='Survived'>,\n",
       "        <AxesSubplot:xlabel='Survived', ylabel='Survived'>]], dtype=object)"
      ]
     },
     "execution_count": 159,
     "metadata": {},
     "output_type": "execute_result"
    },
    {
     "data": {
      "image/png": "[encoded data removed]",
      "text/plain": [
       "<Figure size 864x576 with 25 Axes>"
      ]
     },
     "metadata": {
      "needs_background": "light"
     },
     "output_type": "display_data"
    }
   ],
   "source": [
    "# from pandas.tools.plotting import scatter_matrix # For older versions of Pandas\n",
    "from pandas.plotting import scatter_matrix\n",
    "\n",
    "attributes = [\"First_Digit\", \"Age_Clf\", \n",
    "              \"Fare\", \"Pclass\", \"Survived\"]\n",
    "scatter_matrix(titanic_data[attributes], figsize=(12, 8))"
   ]
  },
  {
   "cell_type": "code",
   "execution_count": 160,
   "metadata": {},
   "outputs": [
    {
     "data": {
      "image/png": "[encoded data removed]",
      "text/plain": [
       "<Figure size 1440x1080 with 12 Axes>"
      ]
     },
     "metadata": {
      "needs_background": "light"
     },
     "output_type": "display_data"
    }
   ],
   "source": [
    "%matplotlib inline\n",
    "import matplotlib.pyplot as plt\n",
    "titanic_data.hist(bins=50, figsize=(20,15))\n",
    "\n",
    "plt.show()"
   ]
  },
  {
   "cell_type": "code",
   "execution_count": 162,
   "metadata": {},
   "outputs": [
    {
     "data": {
      "text/plain": [
       "<AxesSubplot:xlabel='Survived', ylabel='Fare'>"
      ]
     },
     "execution_count": 162,
     "metadata": {},
     "output_type": "execute_result"
    },
    {
     "data": {
      "image/png": "[encoded data removed]",
      "text/plain": [
       "<Figure size 432x288 with 1 Axes>"
      ]
     },
     "metadata": {
      "needs_background": "light"
     },
     "output_type": "display_data"
    }
   ],
   "source": [
    "titanic_data.plot(kind=\"scatter\", x=\"Survived\", y=\"Fare\", alpha = 0.1)\n"
   ]
  },
  {
   "cell_type": "code",
   "execution_count": 173,
   "metadata": {},
   "outputs": [
    {
     "data": {
      "image/png": "[encoded data removed]",
      "text/plain": [
       "<Figure size 432x288 with 2 Axes>"
      ]
     },
     "metadata": {
      "needs_background": "light"
     },
     "output_type": "display_data"
    },
    {
     "data": {
      "image/png": "[encoded data removed]",
      "text/plain": [
       "<Figure size 432x288 with 2 Axes>"
      ]
     },
     "metadata": {
      "needs_background": "light"
     },
     "output_type": "display_data"
    },
    {
     "data": {
      "image/png": "[encoded data removed]",
      "text/plain": [
       "<Figure size 432x288 with 2 Axes>"
      ]
     },
     "metadata": {
      "needs_background": "light"
     },
     "output_type": "display_data"
    },
    {
     "data": {
      "image/png": "[encoded data removed]",
      "text/plain": [
       "<Figure size 432x288 with 2 Axes>"
      ]
     },
     "metadata": {
      "needs_background": "light"
     },
     "output_type": "display_data"
    },
    {
     "data": {
      "image/png": "[encoded data removed]",
      "text/plain": [
       "<Figure size 432x288 with 2 Axes>"
      ]
     },
     "metadata": {
      "needs_background": "light"
     },
     "output_type": "display_data"
    },
    {
     "data": {
      "image/png": "[encoded data removed]",
      "text/plain": [
       "<Figure size 432x288 with 2 Axes>"
      ]
     },
     "metadata": {
      "needs_background": "light"
     },
     "output_type": "display_data"
    },
    {
     "data": {
      "image/png": "[encoded data removed]",
      "text/plain": [
       "<Figure size 432x288 with 2 Axes>"
      ]
     },
     "metadata": {
      "needs_background": "light"
     },
     "output_type": "display_data"
    },
    {
     "data": {
      "image/png": "[encoded data removed]",
      "text/plain": [
       "<Figure size 432x288 with 2 Axes>"
      ]
     },
     "metadata": {
      "needs_background": "light"
     },
     "output_type": "display_data"
    },
    {
     "data": {
      "image/png": "[encoded data removed]",
      "text/plain": [
       "<Figure size 432x288 with 2 Axes>"
      ]
     },
     "metadata": {
      "needs_background": "light"
     },
     "output_type": "display_data"
    },
    {
     "data": {
      "image/png": "[encoded data removed]",
      "text/plain": [
       "<Figure size 432x288 with 2 Axes>"
      ]
     },
     "metadata": {
      "needs_background": "light"
     },
     "output_type": "display_data"
    }
   ],
   "source": [
    "for x in titanic_data:\n",
    "    if x == \"Survived\" or titanic_data[x].dtype == str or titanic_data[x].dtype == object:\n",
    "        continue\n",
    "    else:\n",
    "        titanic_data.plot(kind=\"scatter\", x=x, y=\"Survived\", alpha = 0.2, c=\"Age\", cmap=plt.get_cmap(\"jet\"), colorbar=True,\n",
    "    sharex=False)"
   ]
  },
  {
   "cell_type": "code",
   "execution_count": 180,
   "metadata": {},
   "outputs": [
    {
     "name": "stdout",
     "output_type": "stream",
     "text": [
      "<class 'pandas.core.frame.DataFrame'>\n",
      "RangeIndex: 891 entries, 0 to 890\n",
      "Data columns (total 10 columns):\n",
      " #   Column       Non-Null Count  Dtype  \n",
      "---  ------       --------------  -----  \n",
      " 0   PassengerId  891 non-null    int64  \n",
      " 1   Pclass       891 non-null    int64  \n",
      " 2   Name         891 non-null    object \n",
      " 3   Sex          891 non-null    object \n",
      " 4   SibSp        891 non-null    int64  \n",
      " 5   Parch        891 non-null    int64  \n",
      " 6   Ticket       891 non-null    object \n",
      " 7   Fare         891 non-null    float64\n",
      " 8   Embarked     889 non-null    object \n",
      " 9   First_Digit  891 non-null    int64  \n",
      "dtypes: float64(1), int64(5), object(4)\n",
      "memory usage: 69.7+ KB\n"
     ]
    }
   ],
   "source": [
    "newXTrain.info()"
   ]
  },
  {
   "cell_type": "code",
   "execution_count": 269,
   "metadata": {},
   "outputs": [
    {
     "name": "stdout",
     "output_type": "stream",
     "text": [
      "nan\n",
      "nan\n",
      "889\n"
     ]
    }
   ],
   "source": [
    "copy_titanic_data = titanic_data.copy()\n",
    "y_train = titanic_data.copy()\n",
    "y_train = y_train[\"Survived\"]\n",
    "copy_titanic_data[\"Sex\"] = sex_category_encoded\n",
    "ticketsfirstdigits = []\n",
    "for x in copy_titanic_data[\"Ticket\"]:\n",
    "    ticketsfirstdigits.append(ord(str(x)[0]))\n",
    "\n",
    "copy_titanic_data[\"First_Digit\"] = ticketsfirstdigits\n",
    "\n",
    "index = 0\n",
    "for i in copy_titanic_data[\"Embarked\"]:\n",
    "    if(str(i) == \"nan\"):\n",
    "        print(i)\n",
    "        copy_titanic_data = copy_titanic_data.drop([index])\n",
    "        y_train = y_train.drop([index])\n",
    "    index = index + 1\n",
    "\n",
    "print(len(copy_titanic_data))\n",
    "\n",
    "embarkedfirstdigits = []\n",
    "for x in copy_titanic_data[\"Embarked\"]:\n",
    "    embarkedfirstdigits.append(ord(str(x)[0]))\n",
    "\n",
    "copy_titanic_data[\"Embarked\"] = embarkedfirstdigits\n"
   ]
  },
  {
   "cell_type": "code",
   "execution_count": 270,
   "metadata": {},
   "outputs": [
    {
     "name": "stdout",
     "output_type": "stream",
     "text": [
      "889 889\n"
     ]
    }
   ],
   "source": [
    "print(len(copy_titanic_data), len(y_train))"
   ]
  },
  {
   "cell_type": "code",
   "execution_count": 271,
   "metadata": {},
   "outputs": [
    {
     "name": "stdout",
     "output_type": "stream",
     "text": [
      "<class 'pandas.core.frame.DataFrame'>\n",
      "Int64Index: 889 entries, 0 to 890\n",
      "Data columns (total 16 columns):\n",
      " #   Column             Non-Null Count  Dtype  \n",
      "---  ------             --------------  -----  \n",
      " 0   PassengerId        889 non-null    int64  \n",
      " 1   Survived           889 non-null    int64  \n",
      " 2   Pclass             889 non-null    int64  \n",
      " 3   Name               889 non-null    object \n",
      " 4   Sex                889 non-null    float64\n",
      " 5   Age                712 non-null    float64\n",
      " 6   SibSp              889 non-null    int64  \n",
      " 7   Parch              889 non-null    int64  \n",
      " 8   Ticket             889 non-null    object \n",
      " 9   Fare               889 non-null    float64\n",
      " 10  Cabin              202 non-null    object \n",
      " 11  Embarked           889 non-null    int64  \n",
      " 12  First_Digit        889 non-null    int64  \n",
      " 13  Age_Clf            889 non-null    int64  \n",
      " 14  Cabin_First_Digit  889 non-null    int64  \n",
      " 15  Family_Member      889 non-null    int64  \n",
      "dtypes: float64(3), int64(10), object(3)\n",
      "memory usage: 118.1+ KB\n"
     ]
    }
   ],
   "source": [
    "copy_titanic_data.info()"
   ]
  },
  {
   "cell_type": "code",
   "execution_count": 272,
   "metadata": {},
   "outputs": [
    {
     "name": "stdout",
     "output_type": "stream",
     "text": [
      "nan\n",
      "nan\n",
      "nan\n",
      "nan\n",
      "nan\n",
      "nan\n",
      "nan\n",
      "nan\n",
      "nan\n",
      "nan\n",
      "nan\n",
      "nan\n",
      "nan\n",
      "nan\n",
      "nan\n",
      "nan\n",
      "nan\n",
      "nan\n",
      "nan\n",
      "nan\n",
      "nan\n",
      "nan\n",
      "nan\n",
      "nan\n",
      "nan\n",
      "nan\n",
      "nan\n",
      "nan\n",
      "nan\n",
      "nan\n",
      "nan\n",
      "nan\n",
      "nan\n",
      "nan\n",
      "nan\n",
      "nan\n",
      "nan\n",
      "nan\n",
      "nan\n",
      "nan\n",
      "nan\n",
      "nan\n",
      "nan\n",
      "nan\n",
      "nan\n",
      "nan\n",
      "nan\n",
      "nan\n",
      "nan\n",
      "nan\n",
      "nan\n",
      "nan\n",
      "nan\n",
      "nan\n",
      "nan\n",
      "nan\n",
      "nan\n",
      "nan\n",
      "nan\n",
      "nan\n",
      "nan\n",
      "nan\n",
      "nan\n",
      "nan\n",
      "nan\n",
      "nan\n",
      "nan\n",
      "nan\n",
      "nan\n",
      "nan\n",
      "nan\n",
      "nan\n",
      "nan\n",
      "nan\n",
      "nan\n",
      "nan\n",
      "nan\n",
      "nan\n",
      "nan\n",
      "nan\n",
      "nan\n",
      "nan\n",
      "nan\n",
      "nan\n",
      "nan\n",
      "nan\n",
      "nan\n",
      "nan\n",
      "nan\n",
      "nan\n",
      "nan\n",
      "nan\n",
      "nan\n",
      "nan\n",
      "nan\n",
      "nan\n",
      "nan\n",
      "nan\n",
      "nan\n",
      "nan\n",
      "nan\n",
      "nan\n",
      "nan\n",
      "nan\n",
      "nan\n",
      "nan\n",
      "nan\n",
      "nan\n",
      "nan\n",
      "nan\n",
      "nan\n",
      "nan\n",
      "nan\n",
      "nan\n",
      "nan\n",
      "nan\n",
      "nan\n",
      "nan\n",
      "nan\n",
      "nan\n",
      "nan\n",
      "nan\n",
      "nan\n",
      "nan\n",
      "nan\n",
      "nan\n",
      "nan\n",
      "nan\n",
      "nan\n",
      "nan\n",
      "nan\n",
      "nan\n",
      "nan\n",
      "nan\n",
      "nan\n",
      "nan\n",
      "nan\n",
      "nan\n",
      "nan\n",
      "nan\n",
      "nan\n",
      "nan\n",
      "nan\n",
      "nan\n",
      "nan\n",
      "nan\n",
      "nan\n",
      "nan\n",
      "nan\n",
      "nan\n",
      "nan\n",
      "nan\n",
      "nan\n",
      "nan\n",
      "nan\n",
      "nan\n",
      "nan\n",
      "nan\n",
      "nan\n",
      "nan\n",
      "nan\n",
      "nan\n",
      "nan\n",
      "nan\n",
      "nan\n",
      "nan\n",
      "nan\n",
      "nan\n",
      "nan\n",
      "nan\n",
      "nan\n",
      "nan\n",
      "nan\n",
      "nan\n",
      "nan\n",
      "nan\n",
      "nan\n"
     ]
    }
   ],
   "source": [
    "index = 0\n",
    "for i in copy_titanic_data[\"Age\"]:\n",
    "    if(str(i) == \"nan\"):\n",
    "        print(i)\n",
    "        copy_titanic_data = copy_titanic_data.drop([index])\n",
    "        y_train = y_train.drop([index])\n",
    "    index = index + 1"
   ]
  },
  {
   "cell_type": "code",
   "execution_count": 273,
   "metadata": {},
   "outputs": [
    {
     "name": "stdout",
     "output_type": "stream",
     "text": [
      "712 712\n"
     ]
    }
   ],
   "source": [
    "print(len(copy_titanic_data), len(y_train))"
   ]
  },
  {
   "cell_type": "code",
   "execution_count": 274,
   "metadata": {},
   "outputs": [
    {
     "name": "stdout",
     "output_type": "stream",
     "text": [
      "<class 'pandas.core.frame.DataFrame'>\n",
      "Int64Index: 712 entries, 0 to 890\n",
      "Data columns (total 16 columns):\n",
      " #   Column             Non-Null Count  Dtype  \n",
      "---  ------             --------------  -----  \n",
      " 0   PassengerId        712 non-null    int64  \n",
      " 1   Survived           712 non-null    int64  \n",
      " 2   Pclass             712 non-null    int64  \n",
      " 3   Name               712 non-null    object \n",
      " 4   Sex                712 non-null    float64\n",
      " 5   Age                572 non-null    float64\n",
      " 6   SibSp              712 non-null    int64  \n",
      " 7   Parch              712 non-null    int64  \n",
      " 8   Ticket             712 non-null    object \n",
      " 9   Fare               712 non-null    float64\n",
      " 10  Cabin              162 non-null    object \n",
      " 11  Embarked           712 non-null    int64  \n",
      " 12  First_Digit        712 non-null    int64  \n",
      " 13  Age_Clf            712 non-null    int64  \n",
      " 14  Cabin_First_Digit  712 non-null    int64  \n",
      " 15  Family_Member      712 non-null    int64  \n",
      "dtypes: float64(3), int64(10), object(3)\n",
      "memory usage: 94.6+ KB\n"
     ]
    }
   ],
   "source": [
    "copy_titanic_data.info()"
   ]
  },
  {
   "cell_type": "code",
   "execution_count": 275,
   "metadata": {},
   "outputs": [],
   "source": [
    "copy_titanic_data = copy_titanic_data.drop(\"Cabin\", axis = 1)"
   ]
  },
  {
   "cell_type": "code",
   "execution_count": 276,
   "metadata": {},
   "outputs": [
    {
     "name": "stdout",
     "output_type": "stream",
     "text": [
      "<class 'pandas.core.frame.DataFrame'>\n",
      "Int64Index: 712 entries, 0 to 890\n",
      "Data columns (total 15 columns):\n",
      " #   Column             Non-Null Count  Dtype  \n",
      "---  ------             --------------  -----  \n",
      " 0   PassengerId        712 non-null    int64  \n",
      " 1   Survived           712 non-null    int64  \n",
      " 2   Pclass             712 non-null    int64  \n",
      " 3   Name               712 non-null    object \n",
      " 4   Sex                712 non-null    float64\n",
      " 5   Age                572 non-null    float64\n",
      " 6   SibSp              712 non-null    int64  \n",
      " 7   Parch              712 non-null    int64  \n",
      " 8   Ticket             712 non-null    object \n",
      " 9   Fare               712 non-null    float64\n",
      " 10  Embarked           712 non-null    int64  \n",
      " 11  First_Digit        712 non-null    int64  \n",
      " 12  Age_Clf            712 non-null    int64  \n",
      " 13  Cabin_First_Digit  712 non-null    int64  \n",
      " 14  Family_Member      712 non-null    int64  \n",
      "dtypes: float64(3), int64(10), object(2)\n",
      "memory usage: 89.0+ KB\n"
     ]
    }
   ],
   "source": [
    "copy_titanic_data.info()"
   ]
  },
  {
   "cell_type": "code",
   "execution_count": 277,
   "metadata": {},
   "outputs": [],
   "source": [
    "copy_titanic_data = copy_titanic_data.drop(\"Age\", axis = 1)"
   ]
  },
  {
   "cell_type": "code",
   "execution_count": 278,
   "metadata": {},
   "outputs": [
    {
     "name": "stdout",
     "output_type": "stream",
     "text": [
      "<class 'pandas.core.frame.DataFrame'>\n",
      "Int64Index: 712 entries, 0 to 890\n",
      "Data columns (total 14 columns):\n",
      " #   Column             Non-Null Count  Dtype  \n",
      "---  ------             --------------  -----  \n",
      " 0   PassengerId        712 non-null    int64  \n",
      " 1   Survived           712 non-null    int64  \n",
      " 2   Pclass             712 non-null    int64  \n",
      " 3   Name               712 non-null    object \n",
      " 4   Sex                712 non-null    float64\n",
      " 5   SibSp              712 non-null    int64  \n",
      " 6   Parch              712 non-null    int64  \n",
      " 7   Ticket             712 non-null    object \n",
      " 8   Fare               712 non-null    float64\n",
      " 9   Embarked           712 non-null    int64  \n",
      " 10  First_Digit        712 non-null    int64  \n",
      " 11  Age_Clf            712 non-null    int64  \n",
      " 12  Cabin_First_Digit  712 non-null    int64  \n",
      " 13  Family_Member      712 non-null    int64  \n",
      "dtypes: float64(2), int64(10), object(2)\n",
      "memory usage: 83.4+ KB\n"
     ]
    }
   ],
   "source": [
    "copy_titanic_data.info()"
   ]
  },
  {
   "cell_type": "code",
   "execution_count": 279,
   "metadata": {},
   "outputs": [],
   "source": [
    "copy_titanic_data = copy_titanic_data.drop(\"Ticket\", axis = 1)"
   ]
  },
  {
   "cell_type": "code",
   "execution_count": 280,
   "metadata": {},
   "outputs": [
    {
     "name": "stdout",
     "output_type": "stream",
     "text": [
      "<class 'pandas.core.frame.DataFrame'>\n",
      "Int64Index: 712 entries, 0 to 890\n",
      "Data columns (total 13 columns):\n",
      " #   Column             Non-Null Count  Dtype  \n",
      "---  ------             --------------  -----  \n",
      " 0   PassengerId        712 non-null    int64  \n",
      " 1   Survived           712 non-null    int64  \n",
      " 2   Pclass             712 non-null    int64  \n",
      " 3   Name               712 non-null    object \n",
      " 4   Sex                712 non-null    float64\n",
      " 5   SibSp              712 non-null    int64  \n",
      " 6   Parch              712 non-null    int64  \n",
      " 7   Fare               712 non-null    float64\n",
      " 8   Embarked           712 non-null    int64  \n",
      " 9   First_Digit        712 non-null    int64  \n",
      " 10  Age_Clf            712 non-null    int64  \n",
      " 11  Cabin_First_Digit  712 non-null    int64  \n",
      " 12  Family_Member      712 non-null    int64  \n",
      "dtypes: float64(2), int64(10), object(1)\n",
      "memory usage: 77.9+ KB\n"
     ]
    }
   ],
   "source": [
    "copy_titanic_data.info()"
   ]
  },
  {
   "cell_type": "code",
   "execution_count": 281,
   "metadata": {},
   "outputs": [],
   "source": [
    "copy_titanic_data = copy_titanic_data.drop(\"SibSp\", axis = 1)"
   ]
  },
  {
   "cell_type": "code",
   "execution_count": 282,
   "metadata": {},
   "outputs": [],
   "source": [
    "copy_titanic_data = copy_titanic_data.drop(\"Parch\", axis = 1)"
   ]
  },
  {
   "cell_type": "code",
   "execution_count": 283,
   "metadata": {},
   "outputs": [],
   "source": [
    "copy_titanic_data = copy_titanic_data.drop(\"Name\", axis = 1)"
   ]
  },
  {
   "cell_type": "code",
   "execution_count": 284,
   "metadata": {},
   "outputs": [
    {
     "name": "stdout",
     "output_type": "stream",
     "text": [
      "<class 'pandas.core.frame.DataFrame'>\n",
      "Int64Index: 712 entries, 0 to 890\n",
      "Data columns (total 10 columns):\n",
      " #   Column             Non-Null Count  Dtype  \n",
      "---  ------             --------------  -----  \n",
      " 0   PassengerId        712 non-null    int64  \n",
      " 1   Survived           712 non-null    int64  \n",
      " 2   Pclass             712 non-null    int64  \n",
      " 3   Sex                712 non-null    float64\n",
      " 4   Fare               712 non-null    float64\n",
      " 5   Embarked           712 non-null    int64  \n",
      " 6   First_Digit        712 non-null    int64  \n",
      " 7   Age_Clf            712 non-null    int64  \n",
      " 8   Cabin_First_Digit  712 non-null    int64  \n",
      " 9   Family_Member      712 non-null    int64  \n",
      "dtypes: float64(2), int64(8)\n",
      "memory usage: 61.2 KB\n"
     ]
    }
   ],
   "source": [
    "copy_titanic_data.info()"
   ]
  },
  {
   "cell_type": "code",
   "execution_count": 286,
   "metadata": {},
   "outputs": [
    {
     "data": {
      "text/plain": [
       "array([0.80252101, 0.77637131, 0.80168776])"
      ]
     },
     "execution_count": 286,
     "metadata": {},
     "output_type": "execute_result"
    }
   ],
   "source": [
    "copyX_train = copy_titanic_data.drop(\"Survived\", axis = 1)\n",
    "\n",
    "forest_clf = RandomForestClassifier(n_estimators=100, random_state=42)\n",
    "\n",
    "\n",
    "cross_val_score(forest_clf, copyX_train, y_train, cv=3, scoring=\"accuracy\")"
   ]
  },
  {
   "cell_type": "code",
   "execution_count": 287,
   "metadata": {},
   "outputs": [
    {
     "data": {
      "text/plain": [
       "SGDClassifier(random_state=42)"
      ]
     },
     "execution_count": 287,
     "metadata": {},
     "output_type": "execute_result"
    }
   ],
   "source": [
    "from sklearn.linear_model import SGDClassifier\n",
    "\n",
    "sgd_clf = SGDClassifier(max_iter=1000, tol=1e-3, random_state=42)\n",
    "sgd_clf.fit(copyX_train, y_train)"
   ]
  },
  {
   "cell_type": "code",
   "execution_count": 288,
   "metadata": {},
   "outputs": [
    {
     "data": {
      "text/plain": [
       "array([0.65546218, 0.37130802, 0.37130802])"
      ]
     },
     "execution_count": 288,
     "metadata": {},
     "output_type": "execute_result"
    }
   ],
   "source": [
    "from sklearn.model_selection import cross_val_score\n",
    "cross_val_score(sgd_clf, copyX_train, y_train, cv=3, scoring=\"accuracy\")"
   ]
  },
  {
   "cell_type": "code",
   "execution_count": 290,
   "metadata": {},
   "outputs": [],
   "source": [
    "from sklearn.linear_model import LogisticRegression\n",
    "clf = LogisticRegression(random_state=0, max_iter=1000).fit(copyX_train, y_train)"
   ]
  },
  {
   "cell_type": "code",
   "execution_count": 291,
   "metadata": {},
   "outputs": [
    {
     "data": {
      "text/plain": [
       "array([0.76890756, 0.79746835, 0.7721519 ])"
      ]
     },
     "execution_count": 291,
     "metadata": {},
     "output_type": "execute_result"
    }
   ],
   "source": [
    "cross_val_score(clf, copyX_train, y_train, cv=3, scoring=\"accuracy\")"
   ]
  },
  {
   "cell_type": "code",
   "execution_count": 300,
   "metadata": {},
   "outputs": [
    {
     "data": {
      "text/plain": [
       "GridSearchCV(cv=5, estimator=LogisticRegression(max_iter=1000),\n",
       "             param_grid=[{'class_weight': ['balanced', 'dict', 'None'],\n",
       "                          'fit_intercept': [True, False],\n",
       "                          'solver': ['lbfgs', 'newton-cg']}],\n",
       "             return_train_score=True, scoring='neg_mean_squared_error')"
      ]
     },
     "execution_count": 300,
     "metadata": {},
     "output_type": "execute_result"
    }
   ],
   "source": [
    "from sklearn.model_selection import GridSearchCV\n",
    "\n",
    "log_clf = LogisticRegression(max_iter=1000)\n",
    "\n",
    "param_grid = [\n",
    "    {'fit_intercept': [True, False], 'class_weight': [\"balanced\", \"dict\",  \"None\"],\n",
    "     'solver': [\"lbfgs\", \"newton-cg\"]}\n",
    "  ]\n",
    "\n",
    "# train across 5 folds, that's a total of (12+6)*5=90 rounds of training \n",
    "grid_search = GridSearchCV(log_clf, param_grid, cv=5,\n",
    "                           scoring='neg_mean_squared_error',\n",
    "                           return_train_score=True)\n",
    "grid_search.fit(copyX_train, y_train)"
   ]
  },
  {
   "cell_type": "code",
   "execution_count": 301,
   "metadata": {},
   "outputs": [
    {
     "data": {
      "text/plain": [
       "{'class_weight': 'dict', 'fit_intercept': True, 'solver': 'lbfgs'}"
      ]
     },
     "execution_count": 301,
     "metadata": {},
     "output_type": "execute_result"
    }
   ],
   "source": [
    "grid_search.best_params_"
   ]
  },
  {
   "cell_type": "code",
   "execution_count": 305,
   "metadata": {},
   "outputs": [],
   "source": [
    "log_clf = LogisticRegression(max_iter=1000, class_weight=\"dict\", fit_intercept = True, solver = 'lbfgs' )\n",
    "copyX_train = copyX_train.drop(\"PassengerId\", axis = 1)"
   ]
  },
  {
   "cell_type": "code",
   "execution_count": 306,
   "metadata": {},
   "outputs": [
    {
     "data": {
      "text/plain": [
       "array([0.7605042 , 0.79324895, 0.76793249])"
      ]
     },
     "execution_count": 306,
     "metadata": {},
     "output_type": "execute_result"
    }
   ],
   "source": [
    "from sklearn.model_selection import GridSearchCV\n",
    "\n",
    "log_clf = LogisticRegression(max_iter=1000)\n",
    "\n",
    "param_grid = [\n",
    "    {'fit_intercept': [True, False], 'class_weight': [\"balanced\", \"dict\",  \"None\"],\n",
    "     'solver': [\"lbfgs\", \"newton-cg\"]}\n",
    "  ]\n",
    "\n",
    "# train across 5 folds, that's a total of (12+6)*5=90 rounds of training \n",
    "grid_search = GridSearchCV(log_clf, param_grid, cv=5,\n",
    "                           scoring='neg_mean_squared_error',\n",
    "                           return_train_score=True)\n",
    "grid_search.fit(copyX_train, y_train)\n",
    "log_clf = LogisticRegression(max_iter=1000, class_weight=\"dict\", fit_intercept = True, solver = 'lbfgs' )\n",
    "copyX_train = copyX_train.drop(\"PassengerId\", axis = 1)\n",
    "cross_val_score(log_clf, copyX_train, y_train, cv=3, scoring=\"accuracy\")"
   ]
  },
  {
   "cell_type": "code",
   "execution_count": 318,
   "metadata": {},
   "outputs": [
    {
     "ename": "KeyboardInterrupt",
     "evalue": "",
     "output_type": "error",
     "traceback": [
      "\u001b[1;31m---------------------------------------------------------------------------\u001b[0m",
      "\u001b[1;31mKeyboardInterrupt\u001b[0m                         Traceback (most recent call last)",
      "\u001b[1;32m<ipython-input-318-794dc937dd90>\u001b[0m in \u001b[0;36m<module>\u001b[1;34m\u001b[0m\n\u001b[0;32m     12\u001b[0m                            \u001b[0mscoring\u001b[0m\u001b[1;33m=\u001b[0m\u001b[1;34m'accuracy'\u001b[0m\u001b[1;33m,\u001b[0m\u001b[1;33m\u001b[0m\u001b[1;33m\u001b[0m\u001b[0m\n\u001b[0;32m     13\u001b[0m                            return_train_score=True)\n\u001b[1;32m---> 14\u001b[1;33m \u001b[0mgrid_search\u001b[0m\u001b[1;33m.\u001b[0m\u001b[0mfit\u001b[0m\u001b[1;33m(\u001b[0m\u001b[0mcopyX_train\u001b[0m\u001b[1;33m,\u001b[0m \u001b[0my_train\u001b[0m\u001b[1;33m)\u001b[0m\u001b[1;33m\u001b[0m\u001b[1;33m\u001b[0m\u001b[0m\n\u001b[0m",
      "\u001b[1;32mc:\\ml\\my_env\\lib\\site-packages\\sklearn\\utils\\validation.py\u001b[0m in \u001b[0;36minner_f\u001b[1;34m(*args, **kwargs)\u001b[0m\n\u001b[0;32m     70\u001b[0m                           FutureWarning)\n\u001b[0;32m     71\u001b[0m         \u001b[0mkwargs\u001b[0m\u001b[1;33m.\u001b[0m\u001b[0mupdate\u001b[0m\u001b[1;33m(\u001b[0m\u001b[1;33m{\u001b[0m\u001b[0mk\u001b[0m\u001b[1;33m:\u001b[0m \u001b[0marg\u001b[0m \u001b[1;32mfor\u001b[0m \u001b[0mk\u001b[0m\u001b[1;33m,\u001b[0m \u001b[0marg\u001b[0m \u001b[1;32min\u001b[0m \u001b[0mzip\u001b[0m\u001b[1;33m(\u001b[0m\u001b[0msig\u001b[0m\u001b[1;33m.\u001b[0m\u001b[0mparameters\u001b[0m\u001b[1;33m,\u001b[0m \u001b[0margs\u001b[0m\u001b[1;33m)\u001b[0m\u001b[1;33m}\u001b[0m\u001b[1;33m)\u001b[0m\u001b[1;33m\u001b[0m\u001b[1;33m\u001b[0m\u001b[0m\n\u001b[1;32m---> 72\u001b[1;33m         \u001b[1;32mreturn\u001b[0m \u001b[0mf\u001b[0m\u001b[1;33m(\u001b[0m\u001b[1;33m**\u001b[0m\u001b[0mkwargs\u001b[0m\u001b[1;33m)\u001b[0m\u001b[1;33m\u001b[0m\u001b[1;33m\u001b[0m\u001b[0m\n\u001b[0m\u001b[0;32m     73\u001b[0m     \u001b[1;32mreturn\u001b[0m \u001b[0minner_f\u001b[0m\u001b[1;33m\u001b[0m\u001b[1;33m\u001b[0m\u001b[0m\n\u001b[0;32m     74\u001b[0m \u001b[1;33m\u001b[0m\u001b[0m\n",
      "\u001b[1;32mc:\\ml\\my_env\\lib\\site-packages\\sklearn\\model_selection\\_search.py\u001b[0m in \u001b[0;36mfit\u001b[1;34m(self, X, y, groups, **fit_params)\u001b[0m\n\u001b[0;32m    734\u001b[0m                 \u001b[1;32mreturn\u001b[0m \u001b[0mresults\u001b[0m\u001b[1;33m\u001b[0m\u001b[1;33m\u001b[0m\u001b[0m\n\u001b[0;32m    735\u001b[0m \u001b[1;33m\u001b[0m\u001b[0m\n\u001b[1;32m--> 736\u001b[1;33m             \u001b[0mself\u001b[0m\u001b[1;33m.\u001b[0m\u001b[0m_run_search\u001b[0m\u001b[1;33m(\u001b[0m\u001b[0mevaluate_candidates\u001b[0m\u001b[1;33m)\u001b[0m\u001b[1;33m\u001b[0m\u001b[1;33m\u001b[0m\u001b[0m\n\u001b[0m\u001b[0;32m    737\u001b[0m \u001b[1;33m\u001b[0m\u001b[0m\n\u001b[0;32m    738\u001b[0m         \u001b[1;31m# For multi-metric evaluation, store the best_index_, best_params_ and\u001b[0m\u001b[1;33m\u001b[0m\u001b[1;33m\u001b[0m\u001b[1;33m\u001b[0m\u001b[0m\n",
      "\u001b[1;32mc:\\ml\\my_env\\lib\\site-packages\\sklearn\\model_selection\\_search.py\u001b[0m in \u001b[0;36m_run_search\u001b[1;34m(self, evaluate_candidates)\u001b[0m\n\u001b[0;32m   1186\u001b[0m     \u001b[1;32mdef\u001b[0m \u001b[0m_run_search\u001b[0m\u001b[1;33m(\u001b[0m\u001b[0mself\u001b[0m\u001b[1;33m,\u001b[0m \u001b[0mevaluate_candidates\u001b[0m\u001b[1;33m)\u001b[0m\u001b[1;33m:\u001b[0m\u001b[1;33m\u001b[0m\u001b[1;33m\u001b[0m\u001b[0m\n\u001b[0;32m   1187\u001b[0m         \u001b[1;34m\"\"\"Search all candidates in param_grid\"\"\"\u001b[0m\u001b[1;33m\u001b[0m\u001b[1;33m\u001b[0m\u001b[0m\n\u001b[1;32m-> 1188\u001b[1;33m         \u001b[0mevaluate_candidates\u001b[0m\u001b[1;33m(\u001b[0m\u001b[0mParameterGrid\u001b[0m\u001b[1;33m(\u001b[0m\u001b[0mself\u001b[0m\u001b[1;33m.\u001b[0m\u001b[0mparam_grid\u001b[0m\u001b[1;33m)\u001b[0m\u001b[1;33m)\u001b[0m\u001b[1;33m\u001b[0m\u001b[1;33m\u001b[0m\u001b[0m\n\u001b[0m\u001b[0;32m   1189\u001b[0m \u001b[1;33m\u001b[0m\u001b[0m\n\u001b[0;32m   1190\u001b[0m \u001b[1;33m\u001b[0m\u001b[0m\n",
      "\u001b[1;32mc:\\ml\\my_env\\lib\\site-packages\\sklearn\\model_selection\\_search.py\u001b[0m in \u001b[0;36mevaluate_candidates\u001b[1;34m(candidate_params)\u001b[0m\n\u001b[0;32m    713\u001b[0m                                \u001b[1;32mfor\u001b[0m \u001b[0mparameters\u001b[0m\u001b[1;33m,\u001b[0m \u001b[1;33m(\u001b[0m\u001b[0mtrain\u001b[0m\u001b[1;33m,\u001b[0m \u001b[0mtest\u001b[0m\u001b[1;33m)\u001b[0m\u001b[1;33m\u001b[0m\u001b[1;33m\u001b[0m\u001b[0m\n\u001b[0;32m    714\u001b[0m                                in product(candidate_params,\n\u001b[1;32m--> 715\u001b[1;33m                                           cv.split(X, y, groups)))\n\u001b[0m\u001b[0;32m    716\u001b[0m \u001b[1;33m\u001b[0m\u001b[0m\n\u001b[0;32m    717\u001b[0m                 \u001b[1;32mif\u001b[0m \u001b[0mlen\u001b[0m\u001b[1;33m(\u001b[0m\u001b[0mout\u001b[0m\u001b[1;33m)\u001b[0m \u001b[1;33m<\u001b[0m \u001b[1;36m1\u001b[0m\u001b[1;33m:\u001b[0m\u001b[1;33m\u001b[0m\u001b[1;33m\u001b[0m\u001b[0m\n",
      "\u001b[1;32mc:\\ml\\my_env\\lib\\site-packages\\joblib\\parallel.py\u001b[0m in \u001b[0;36m__call__\u001b[1;34m(self, iterable)\u001b[0m\n\u001b[0;32m   1030\u001b[0m                 \u001b[0mself\u001b[0m\u001b[1;33m.\u001b[0m\u001b[0m_iterating\u001b[0m \u001b[1;33m=\u001b[0m \u001b[0mself\u001b[0m\u001b[1;33m.\u001b[0m\u001b[0m_original_iterator\u001b[0m \u001b[1;32mis\u001b[0m \u001b[1;32mnot\u001b[0m \u001b[1;32mNone\u001b[0m\u001b[1;33m\u001b[0m\u001b[1;33m\u001b[0m\u001b[0m\n\u001b[0;32m   1031\u001b[0m \u001b[1;33m\u001b[0m\u001b[0m\n\u001b[1;32m-> 1032\u001b[1;33m             \u001b[1;32mwhile\u001b[0m \u001b[0mself\u001b[0m\u001b[1;33m.\u001b[0m\u001b[0mdispatch_one_batch\u001b[0m\u001b[1;33m(\u001b[0m\u001b[0miterator\u001b[0m\u001b[1;33m)\u001b[0m\u001b[1;33m:\u001b[0m\u001b[1;33m\u001b[0m\u001b[1;33m\u001b[0m\u001b[0m\n\u001b[0m\u001b[0;32m   1033\u001b[0m                 \u001b[1;32mpass\u001b[0m\u001b[1;33m\u001b[0m\u001b[1;33m\u001b[0m\u001b[0m\n\u001b[0;32m   1034\u001b[0m \u001b[1;33m\u001b[0m\u001b[0m\n",
      "\u001b[1;32mc:\\ml\\my_env\\lib\\site-packages\\joblib\\parallel.py\u001b[0m in \u001b[0;36mdispatch_one_batch\u001b[1;34m(self, iterator)\u001b[0m\n\u001b[0;32m    845\u001b[0m                 \u001b[1;32mreturn\u001b[0m \u001b[1;32mFalse\u001b[0m\u001b[1;33m\u001b[0m\u001b[1;33m\u001b[0m\u001b[0m\n\u001b[0;32m    846\u001b[0m             \u001b[1;32melse\u001b[0m\u001b[1;33m:\u001b[0m\u001b[1;33m\u001b[0m\u001b[1;33m\u001b[0m\u001b[0m\n\u001b[1;32m--> 847\u001b[1;33m                 \u001b[0mself\u001b[0m\u001b[1;33m.\u001b[0m\u001b[0m_dispatch\u001b[0m\u001b[1;33m(\u001b[0m\u001b[0mtasks\u001b[0m\u001b[1;33m)\u001b[0m\u001b[1;33m\u001b[0m\u001b[1;33m\u001b[0m\u001b[0m\n\u001b[0m\u001b[0;32m    848\u001b[0m                 \u001b[1;32mreturn\u001b[0m \u001b[1;32mTrue\u001b[0m\u001b[1;33m\u001b[0m\u001b[1;33m\u001b[0m\u001b[0m\n\u001b[0;32m    849\u001b[0m \u001b[1;33m\u001b[0m\u001b[0m\n",
      "\u001b[1;32mc:\\ml\\my_env\\lib\\site-packages\\joblib\\parallel.py\u001b[0m in \u001b[0;36m_dispatch\u001b[1;34m(self, batch)\u001b[0m\n\u001b[0;32m    763\u001b[0m         \u001b[1;32mwith\u001b[0m \u001b[0mself\u001b[0m\u001b[1;33m.\u001b[0m\u001b[0m_lock\u001b[0m\u001b[1;33m:\u001b[0m\u001b[1;33m\u001b[0m\u001b[1;33m\u001b[0m\u001b[0m\n\u001b[0;32m    764\u001b[0m             \u001b[0mjob_idx\u001b[0m \u001b[1;33m=\u001b[0m \u001b[0mlen\u001b[0m\u001b[1;33m(\u001b[0m\u001b[0mself\u001b[0m\u001b[1;33m.\u001b[0m\u001b[0m_jobs\u001b[0m\u001b[1;33m)\u001b[0m\u001b[1;33m\u001b[0m\u001b[1;33m\u001b[0m\u001b[0m\n\u001b[1;32m--> 765\u001b[1;33m             \u001b[0mjob\u001b[0m \u001b[1;33m=\u001b[0m \u001b[0mself\u001b[0m\u001b[1;33m.\u001b[0m\u001b[0m_backend\u001b[0m\u001b[1;33m.\u001b[0m\u001b[0mapply_async\u001b[0m\u001b[1;33m(\u001b[0m\u001b[0mbatch\u001b[0m\u001b[1;33m,\u001b[0m \u001b[0mcallback\u001b[0m\u001b[1;33m=\u001b[0m\u001b[0mcb\u001b[0m\u001b[1;33m)\u001b[0m\u001b[1;33m\u001b[0m\u001b[1;33m\u001b[0m\u001b[0m\n\u001b[0m\u001b[0;32m    766\u001b[0m             \u001b[1;31m# A job can complete so quickly than its callback is\u001b[0m\u001b[1;33m\u001b[0m\u001b[1;33m\u001b[0m\u001b[1;33m\u001b[0m\u001b[0m\n\u001b[0;32m    767\u001b[0m             \u001b[1;31m# called before we get here, causing self._jobs to\u001b[0m\u001b[1;33m\u001b[0m\u001b[1;33m\u001b[0m\u001b[1;33m\u001b[0m\u001b[0m\n",
      "\u001b[1;32mc:\\ml\\my_env\\lib\\site-packages\\joblib\\_parallel_backends.py\u001b[0m in \u001b[0;36mapply_async\u001b[1;34m(self, func, callback)\u001b[0m\n\u001b[0;32m    206\u001b[0m     \u001b[1;32mdef\u001b[0m \u001b[0mapply_async\u001b[0m\u001b[1;33m(\u001b[0m\u001b[0mself\u001b[0m\u001b[1;33m,\u001b[0m \u001b[0mfunc\u001b[0m\u001b[1;33m,\u001b[0m \u001b[0mcallback\u001b[0m\u001b[1;33m=\u001b[0m\u001b[1;32mNone\u001b[0m\u001b[1;33m)\u001b[0m\u001b[1;33m:\u001b[0m\u001b[1;33m\u001b[0m\u001b[1;33m\u001b[0m\u001b[0m\n\u001b[0;32m    207\u001b[0m         \u001b[1;34m\"\"\"Schedule a func to be run\"\"\"\u001b[0m\u001b[1;33m\u001b[0m\u001b[1;33m\u001b[0m\u001b[0m\n\u001b[1;32m--> 208\u001b[1;33m         \u001b[0mresult\u001b[0m \u001b[1;33m=\u001b[0m \u001b[0mImmediateResult\u001b[0m\u001b[1;33m(\u001b[0m\u001b[0mfunc\u001b[0m\u001b[1;33m)\u001b[0m\u001b[1;33m\u001b[0m\u001b[1;33m\u001b[0m\u001b[0m\n\u001b[0m\u001b[0;32m    209\u001b[0m         \u001b[1;32mif\u001b[0m \u001b[0mcallback\u001b[0m\u001b[1;33m:\u001b[0m\u001b[1;33m\u001b[0m\u001b[1;33m\u001b[0m\u001b[0m\n\u001b[0;32m    210\u001b[0m             \u001b[0mcallback\u001b[0m\u001b[1;33m(\u001b[0m\u001b[0mresult\u001b[0m\u001b[1;33m)\u001b[0m\u001b[1;33m\u001b[0m\u001b[1;33m\u001b[0m\u001b[0m\n",
      "\u001b[1;32mc:\\ml\\my_env\\lib\\site-packages\\joblib\\_parallel_backends.py\u001b[0m in \u001b[0;36m__init__\u001b[1;34m(self, batch)\u001b[0m\n\u001b[0;32m    570\u001b[0m         \u001b[1;31m# Don't delay the application, to avoid keeping the input\u001b[0m\u001b[1;33m\u001b[0m\u001b[1;33m\u001b[0m\u001b[1;33m\u001b[0m\u001b[0m\n\u001b[0;32m    571\u001b[0m         \u001b[1;31m# arguments in memory\u001b[0m\u001b[1;33m\u001b[0m\u001b[1;33m\u001b[0m\u001b[1;33m\u001b[0m\u001b[0m\n\u001b[1;32m--> 572\u001b[1;33m         \u001b[0mself\u001b[0m\u001b[1;33m.\u001b[0m\u001b[0mresults\u001b[0m \u001b[1;33m=\u001b[0m \u001b[0mbatch\u001b[0m\u001b[1;33m(\u001b[0m\u001b[1;33m)\u001b[0m\u001b[1;33m\u001b[0m\u001b[1;33m\u001b[0m\u001b[0m\n\u001b[0m\u001b[0;32m    573\u001b[0m \u001b[1;33m\u001b[0m\u001b[0m\n\u001b[0;32m    574\u001b[0m     \u001b[1;32mdef\u001b[0m \u001b[0mget\u001b[0m\u001b[1;33m(\u001b[0m\u001b[0mself\u001b[0m\u001b[1;33m)\u001b[0m\u001b[1;33m:\u001b[0m\u001b[1;33m\u001b[0m\u001b[1;33m\u001b[0m\u001b[0m\n",
      "\u001b[1;32mc:\\ml\\my_env\\lib\\site-packages\\joblib\\parallel.py\u001b[0m in \u001b[0;36m__call__\u001b[1;34m(self)\u001b[0m\n\u001b[0;32m    251\u001b[0m         \u001b[1;32mwith\u001b[0m \u001b[0mparallel_backend\u001b[0m\u001b[1;33m(\u001b[0m\u001b[0mself\u001b[0m\u001b[1;33m.\u001b[0m\u001b[0m_backend\u001b[0m\u001b[1;33m,\u001b[0m \u001b[0mn_jobs\u001b[0m\u001b[1;33m=\u001b[0m\u001b[0mself\u001b[0m\u001b[1;33m.\u001b[0m\u001b[0m_n_jobs\u001b[0m\u001b[1;33m)\u001b[0m\u001b[1;33m:\u001b[0m\u001b[1;33m\u001b[0m\u001b[1;33m\u001b[0m\u001b[0m\n\u001b[0;32m    252\u001b[0m             return [func(*args, **kwargs)\n\u001b[1;32m--> 253\u001b[1;33m                     for func, args, kwargs in self.items]\n\u001b[0m\u001b[0;32m    254\u001b[0m \u001b[1;33m\u001b[0m\u001b[0m\n\u001b[0;32m    255\u001b[0m     \u001b[1;32mdef\u001b[0m \u001b[0m__reduce__\u001b[0m\u001b[1;33m(\u001b[0m\u001b[0mself\u001b[0m\u001b[1;33m)\u001b[0m\u001b[1;33m:\u001b[0m\u001b[1;33m\u001b[0m\u001b[1;33m\u001b[0m\u001b[0m\n",
      "\u001b[1;32mc:\\ml\\my_env\\lib\\site-packages\\joblib\\parallel.py\u001b[0m in \u001b[0;36m<listcomp>\u001b[1;34m(.0)\u001b[0m\n\u001b[0;32m    251\u001b[0m         \u001b[1;32mwith\u001b[0m \u001b[0mparallel_backend\u001b[0m\u001b[1;33m(\u001b[0m\u001b[0mself\u001b[0m\u001b[1;33m.\u001b[0m\u001b[0m_backend\u001b[0m\u001b[1;33m,\u001b[0m \u001b[0mn_jobs\u001b[0m\u001b[1;33m=\u001b[0m\u001b[0mself\u001b[0m\u001b[1;33m.\u001b[0m\u001b[0m_n_jobs\u001b[0m\u001b[1;33m)\u001b[0m\u001b[1;33m:\u001b[0m\u001b[1;33m\u001b[0m\u001b[1;33m\u001b[0m\u001b[0m\n\u001b[0;32m    252\u001b[0m             return [func(*args, **kwargs)\n\u001b[1;32m--> 253\u001b[1;33m                     for func, args, kwargs in self.items]\n\u001b[0m\u001b[0;32m    254\u001b[0m \u001b[1;33m\u001b[0m\u001b[0m\n\u001b[0;32m    255\u001b[0m     \u001b[1;32mdef\u001b[0m \u001b[0m__reduce__\u001b[0m\u001b[1;33m(\u001b[0m\u001b[0mself\u001b[0m\u001b[1;33m)\u001b[0m\u001b[1;33m:\u001b[0m\u001b[1;33m\u001b[0m\u001b[1;33m\u001b[0m\u001b[0m\n",
      "\u001b[1;32mc:\\ml\\my_env\\lib\\site-packages\\sklearn\\model_selection\\_validation.py\u001b[0m in \u001b[0;36m_fit_and_score\u001b[1;34m(estimator, X, y, scorer, train, test, verbose, parameters, fit_params, return_train_score, return_parameters, return_n_test_samples, return_times, return_estimator, error_score)\u001b[0m\n\u001b[0;32m    529\u001b[0m             \u001b[0mestimator\u001b[0m\u001b[1;33m.\u001b[0m\u001b[0mfit\u001b[0m\u001b[1;33m(\u001b[0m\u001b[0mX_train\u001b[0m\u001b[1;33m,\u001b[0m \u001b[1;33m**\u001b[0m\u001b[0mfit_params\u001b[0m\u001b[1;33m)\u001b[0m\u001b[1;33m\u001b[0m\u001b[1;33m\u001b[0m\u001b[0m\n\u001b[0;32m    530\u001b[0m         \u001b[1;32melse\u001b[0m\u001b[1;33m:\u001b[0m\u001b[1;33m\u001b[0m\u001b[1;33m\u001b[0m\u001b[0m\n\u001b[1;32m--> 531\u001b[1;33m             \u001b[0mestimator\u001b[0m\u001b[1;33m.\u001b[0m\u001b[0mfit\u001b[0m\u001b[1;33m(\u001b[0m\u001b[0mX_train\u001b[0m\u001b[1;33m,\u001b[0m \u001b[0my_train\u001b[0m\u001b[1;33m,\u001b[0m \u001b[1;33m**\u001b[0m\u001b[0mfit_params\u001b[0m\u001b[1;33m)\u001b[0m\u001b[1;33m\u001b[0m\u001b[1;33m\u001b[0m\u001b[0m\n\u001b[0m\u001b[0;32m    532\u001b[0m \u001b[1;33m\u001b[0m\u001b[0m\n\u001b[0;32m    533\u001b[0m     \u001b[1;32mexcept\u001b[0m \u001b[0mException\u001b[0m \u001b[1;32mas\u001b[0m \u001b[0me\u001b[0m\u001b[1;33m:\u001b[0m\u001b[1;33m\u001b[0m\u001b[1;33m\u001b[0m\u001b[0m\n",
      "\u001b[1;32mc:\\ml\\my_env\\lib\\site-packages\\sklearn\\linear_model\\_logistic.py\u001b[0m in \u001b[0;36mfit\u001b[1;34m(self, X, y, sample_weight)\u001b[0m\n\u001b[0;32m   1415\u001b[0m                       \u001b[0mpenalty\u001b[0m\u001b[1;33m=\u001b[0m\u001b[0mpenalty\u001b[0m\u001b[1;33m,\u001b[0m \u001b[0mmax_squared_sum\u001b[0m\u001b[1;33m=\u001b[0m\u001b[0mmax_squared_sum\u001b[0m\u001b[1;33m,\u001b[0m\u001b[1;33m\u001b[0m\u001b[1;33m\u001b[0m\u001b[0m\n\u001b[0;32m   1416\u001b[0m                       sample_weight=sample_weight)\n\u001b[1;32m-> 1417\u001b[1;33m             for class_, warm_start_coef_ in zip(classes_, warm_start_coef))\n\u001b[0m\u001b[0;32m   1418\u001b[0m \u001b[1;33m\u001b[0m\u001b[0m\n\u001b[0;32m   1419\u001b[0m         \u001b[0mfold_coefs_\u001b[0m\u001b[1;33m,\u001b[0m \u001b[0m_\u001b[0m\u001b[1;33m,\u001b[0m \u001b[0mn_iter_\u001b[0m \u001b[1;33m=\u001b[0m \u001b[0mzip\u001b[0m\u001b[1;33m(\u001b[0m\u001b[1;33m*\u001b[0m\u001b[0mfold_coefs_\u001b[0m\u001b[1;33m)\u001b[0m\u001b[1;33m\u001b[0m\u001b[1;33m\u001b[0m\u001b[0m\n",
      "\u001b[1;32mc:\\ml\\my_env\\lib\\site-packages\\joblib\\parallel.py\u001b[0m in \u001b[0;36m__call__\u001b[1;34m(self, iterable)\u001b[0m\n\u001b[0;32m   1027\u001b[0m             \u001b[1;31m# remaining jobs.\u001b[0m\u001b[1;33m\u001b[0m\u001b[1;33m\u001b[0m\u001b[1;33m\u001b[0m\u001b[0m\n\u001b[0;32m   1028\u001b[0m             \u001b[0mself\u001b[0m\u001b[1;33m.\u001b[0m\u001b[0m_iterating\u001b[0m \u001b[1;33m=\u001b[0m \u001b[1;32mFalse\u001b[0m\u001b[1;33m\u001b[0m\u001b[1;33m\u001b[0m\u001b[0m\n\u001b[1;32m-> 1029\u001b[1;33m             \u001b[1;32mif\u001b[0m \u001b[0mself\u001b[0m\u001b[1;33m.\u001b[0m\u001b[0mdispatch_one_batch\u001b[0m\u001b[1;33m(\u001b[0m\u001b[0miterator\u001b[0m\u001b[1;33m)\u001b[0m\u001b[1;33m:\u001b[0m\u001b[1;33m\u001b[0m\u001b[1;33m\u001b[0m\u001b[0m\n\u001b[0m\u001b[0;32m   1030\u001b[0m                 \u001b[0mself\u001b[0m\u001b[1;33m.\u001b[0m\u001b[0m_iterating\u001b[0m \u001b[1;33m=\u001b[0m \u001b[0mself\u001b[0m\u001b[1;33m.\u001b[0m\u001b[0m_original_iterator\u001b[0m \u001b[1;32mis\u001b[0m \u001b[1;32mnot\u001b[0m \u001b[1;32mNone\u001b[0m\u001b[1;33m\u001b[0m\u001b[1;33m\u001b[0m\u001b[0m\n\u001b[0;32m   1031\u001b[0m \u001b[1;33m\u001b[0m\u001b[0m\n",
      "\u001b[1;32mc:\\ml\\my_env\\lib\\site-packages\\joblib\\parallel.py\u001b[0m in \u001b[0;36mdispatch_one_batch\u001b[1;34m(self, iterator)\u001b[0m\n\u001b[0;32m    845\u001b[0m                 \u001b[1;32mreturn\u001b[0m \u001b[1;32mFalse\u001b[0m\u001b[1;33m\u001b[0m\u001b[1;33m\u001b[0m\u001b[0m\n\u001b[0;32m    846\u001b[0m             \u001b[1;32melse\u001b[0m\u001b[1;33m:\u001b[0m\u001b[1;33m\u001b[0m\u001b[1;33m\u001b[0m\u001b[0m\n\u001b[1;32m--> 847\u001b[1;33m                 \u001b[0mself\u001b[0m\u001b[1;33m.\u001b[0m\u001b[0m_dispatch\u001b[0m\u001b[1;33m(\u001b[0m\u001b[0mtasks\u001b[0m\u001b[1;33m)\u001b[0m\u001b[1;33m\u001b[0m\u001b[1;33m\u001b[0m\u001b[0m\n\u001b[0m\u001b[0;32m    848\u001b[0m                 \u001b[1;32mreturn\u001b[0m \u001b[1;32mTrue\u001b[0m\u001b[1;33m\u001b[0m\u001b[1;33m\u001b[0m\u001b[0m\n\u001b[0;32m    849\u001b[0m \u001b[1;33m\u001b[0m\u001b[0m\n",
      "\u001b[1;32mc:\\ml\\my_env\\lib\\site-packages\\joblib\\parallel.py\u001b[0m in \u001b[0;36m_dispatch\u001b[1;34m(self, batch)\u001b[0m\n\u001b[0;32m    763\u001b[0m         \u001b[1;32mwith\u001b[0m \u001b[0mself\u001b[0m\u001b[1;33m.\u001b[0m\u001b[0m_lock\u001b[0m\u001b[1;33m:\u001b[0m\u001b[1;33m\u001b[0m\u001b[1;33m\u001b[0m\u001b[0m\n\u001b[0;32m    764\u001b[0m             \u001b[0mjob_idx\u001b[0m \u001b[1;33m=\u001b[0m \u001b[0mlen\u001b[0m\u001b[1;33m(\u001b[0m\u001b[0mself\u001b[0m\u001b[1;33m.\u001b[0m\u001b[0m_jobs\u001b[0m\u001b[1;33m)\u001b[0m\u001b[1;33m\u001b[0m\u001b[1;33m\u001b[0m\u001b[0m\n\u001b[1;32m--> 765\u001b[1;33m             \u001b[0mjob\u001b[0m \u001b[1;33m=\u001b[0m \u001b[0mself\u001b[0m\u001b[1;33m.\u001b[0m\u001b[0m_backend\u001b[0m\u001b[1;33m.\u001b[0m\u001b[0mapply_async\u001b[0m\u001b[1;33m(\u001b[0m\u001b[0mbatch\u001b[0m\u001b[1;33m,\u001b[0m \u001b[0mcallback\u001b[0m\u001b[1;33m=\u001b[0m\u001b[0mcb\u001b[0m\u001b[1;33m)\u001b[0m\u001b[1;33m\u001b[0m\u001b[1;33m\u001b[0m\u001b[0m\n\u001b[0m\u001b[0;32m    766\u001b[0m             \u001b[1;31m# A job can complete so quickly than its callback is\u001b[0m\u001b[1;33m\u001b[0m\u001b[1;33m\u001b[0m\u001b[1;33m\u001b[0m\u001b[0m\n\u001b[0;32m    767\u001b[0m             \u001b[1;31m# called before we get here, causing self._jobs to\u001b[0m\u001b[1;33m\u001b[0m\u001b[1;33m\u001b[0m\u001b[1;33m\u001b[0m\u001b[0m\n",
      "\u001b[1;32mc:\\ml\\my_env\\lib\\site-packages\\joblib\\_parallel_backends.py\u001b[0m in \u001b[0;36mapply_async\u001b[1;34m(self, func, callback)\u001b[0m\n\u001b[0;32m    206\u001b[0m     \u001b[1;32mdef\u001b[0m \u001b[0mapply_async\u001b[0m\u001b[1;33m(\u001b[0m\u001b[0mself\u001b[0m\u001b[1;33m,\u001b[0m \u001b[0mfunc\u001b[0m\u001b[1;33m,\u001b[0m \u001b[0mcallback\u001b[0m\u001b[1;33m=\u001b[0m\u001b[1;32mNone\u001b[0m\u001b[1;33m)\u001b[0m\u001b[1;33m:\u001b[0m\u001b[1;33m\u001b[0m\u001b[1;33m\u001b[0m\u001b[0m\n\u001b[0;32m    207\u001b[0m         \u001b[1;34m\"\"\"Schedule a func to be run\"\"\"\u001b[0m\u001b[1;33m\u001b[0m\u001b[1;33m\u001b[0m\u001b[0m\n\u001b[1;32m--> 208\u001b[1;33m         \u001b[0mresult\u001b[0m \u001b[1;33m=\u001b[0m \u001b[0mImmediateResult\u001b[0m\u001b[1;33m(\u001b[0m\u001b[0mfunc\u001b[0m\u001b[1;33m)\u001b[0m\u001b[1;33m\u001b[0m\u001b[1;33m\u001b[0m\u001b[0m\n\u001b[0m\u001b[0;32m    209\u001b[0m         \u001b[1;32mif\u001b[0m \u001b[0mcallback\u001b[0m\u001b[1;33m:\u001b[0m\u001b[1;33m\u001b[0m\u001b[1;33m\u001b[0m\u001b[0m\n\u001b[0;32m    210\u001b[0m             \u001b[0mcallback\u001b[0m\u001b[1;33m(\u001b[0m\u001b[0mresult\u001b[0m\u001b[1;33m)\u001b[0m\u001b[1;33m\u001b[0m\u001b[1;33m\u001b[0m\u001b[0m\n",
      "\u001b[1;32mc:\\ml\\my_env\\lib\\site-packages\\joblib\\_parallel_backends.py\u001b[0m in \u001b[0;36m__init__\u001b[1;34m(self, batch)\u001b[0m\n\u001b[0;32m    570\u001b[0m         \u001b[1;31m# Don't delay the application, to avoid keeping the input\u001b[0m\u001b[1;33m\u001b[0m\u001b[1;33m\u001b[0m\u001b[1;33m\u001b[0m\u001b[0m\n\u001b[0;32m    571\u001b[0m         \u001b[1;31m# arguments in memory\u001b[0m\u001b[1;33m\u001b[0m\u001b[1;33m\u001b[0m\u001b[1;33m\u001b[0m\u001b[0m\n\u001b[1;32m--> 572\u001b[1;33m         \u001b[0mself\u001b[0m\u001b[1;33m.\u001b[0m\u001b[0mresults\u001b[0m \u001b[1;33m=\u001b[0m \u001b[0mbatch\u001b[0m\u001b[1;33m(\u001b[0m\u001b[1;33m)\u001b[0m\u001b[1;33m\u001b[0m\u001b[1;33m\u001b[0m\u001b[0m\n\u001b[0m\u001b[0;32m    573\u001b[0m \u001b[1;33m\u001b[0m\u001b[0m\n\u001b[0;32m    574\u001b[0m     \u001b[1;32mdef\u001b[0m \u001b[0mget\u001b[0m\u001b[1;33m(\u001b[0m\u001b[0mself\u001b[0m\u001b[1;33m)\u001b[0m\u001b[1;33m:\u001b[0m\u001b[1;33m\u001b[0m\u001b[1;33m\u001b[0m\u001b[0m\n",
      "\u001b[1;32mc:\\ml\\my_env\\lib\\site-packages\\joblib\\parallel.py\u001b[0m in \u001b[0;36m__call__\u001b[1;34m(self)\u001b[0m\n\u001b[0;32m    251\u001b[0m         \u001b[1;32mwith\u001b[0m \u001b[0mparallel_backend\u001b[0m\u001b[1;33m(\u001b[0m\u001b[0mself\u001b[0m\u001b[1;33m.\u001b[0m\u001b[0m_backend\u001b[0m\u001b[1;33m,\u001b[0m \u001b[0mn_jobs\u001b[0m\u001b[1;33m=\u001b[0m\u001b[0mself\u001b[0m\u001b[1;33m.\u001b[0m\u001b[0m_n_jobs\u001b[0m\u001b[1;33m)\u001b[0m\u001b[1;33m:\u001b[0m\u001b[1;33m\u001b[0m\u001b[1;33m\u001b[0m\u001b[0m\n\u001b[0;32m    252\u001b[0m             return [func(*args, **kwargs)\n\u001b[1;32m--> 253\u001b[1;33m                     for func, args, kwargs in self.items]\n\u001b[0m\u001b[0;32m    254\u001b[0m \u001b[1;33m\u001b[0m\u001b[0m\n\u001b[0;32m    255\u001b[0m     \u001b[1;32mdef\u001b[0m \u001b[0m__reduce__\u001b[0m\u001b[1;33m(\u001b[0m\u001b[0mself\u001b[0m\u001b[1;33m)\u001b[0m\u001b[1;33m:\u001b[0m\u001b[1;33m\u001b[0m\u001b[1;33m\u001b[0m\u001b[0m\n",
      "\u001b[1;32mc:\\ml\\my_env\\lib\\site-packages\\joblib\\parallel.py\u001b[0m in \u001b[0;36m<listcomp>\u001b[1;34m(.0)\u001b[0m\n\u001b[0;32m    251\u001b[0m         \u001b[1;32mwith\u001b[0m \u001b[0mparallel_backend\u001b[0m\u001b[1;33m(\u001b[0m\u001b[0mself\u001b[0m\u001b[1;33m.\u001b[0m\u001b[0m_backend\u001b[0m\u001b[1;33m,\u001b[0m \u001b[0mn_jobs\u001b[0m\u001b[1;33m=\u001b[0m\u001b[0mself\u001b[0m\u001b[1;33m.\u001b[0m\u001b[0m_n_jobs\u001b[0m\u001b[1;33m)\u001b[0m\u001b[1;33m:\u001b[0m\u001b[1;33m\u001b[0m\u001b[1;33m\u001b[0m\u001b[0m\n\u001b[0;32m    252\u001b[0m             return [func(*args, **kwargs)\n\u001b[1;32m--> 253\u001b[1;33m                     for func, args, kwargs in self.items]\n\u001b[0m\u001b[0;32m    254\u001b[0m \u001b[1;33m\u001b[0m\u001b[0m\n\u001b[0;32m    255\u001b[0m     \u001b[1;32mdef\u001b[0m \u001b[0m__reduce__\u001b[0m\u001b[1;33m(\u001b[0m\u001b[0mself\u001b[0m\u001b[1;33m)\u001b[0m\u001b[1;33m:\u001b[0m\u001b[1;33m\u001b[0m\u001b[1;33m\u001b[0m\u001b[0m\n",
      "\u001b[1;32mc:\\ml\\my_env\\lib\\site-packages\\sklearn\\linear_model\\_logistic.py\u001b[0m in \u001b[0;36m_logistic_regression_path\u001b[1;34m(X, y, pos_class, Cs, fit_intercept, max_iter, tol, verbose, solver, coef, class_weight, dual, penalty, intercept_scaling, multi_class, random_state, check_input, max_squared_sum, sample_weight, l1_ratio)\u001b[0m\n\u001b[0;32m    799\u001b[0m                 \u001b[0mbeta\u001b[0m\u001b[1;33m,\u001b[0m \u001b[0mmax_iter\u001b[0m\u001b[1;33m,\u001b[0m \u001b[0mtol\u001b[0m\u001b[1;33m,\u001b[0m\u001b[1;33m\u001b[0m\u001b[1;33m\u001b[0m\u001b[0m\n\u001b[0;32m    800\u001b[0m                 \u001b[0mverbose\u001b[0m\u001b[1;33m,\u001b[0m \u001b[0mrandom_state\u001b[0m\u001b[1;33m,\u001b[0m \u001b[1;32mFalse\u001b[0m\u001b[1;33m,\u001b[0m \u001b[0mmax_squared_sum\u001b[0m\u001b[1;33m,\u001b[0m \u001b[0mwarm_start_sag\u001b[0m\u001b[1;33m,\u001b[0m\u001b[1;33m\u001b[0m\u001b[1;33m\u001b[0m\u001b[0m\n\u001b[1;32m--> 801\u001b[1;33m                 is_saga=(solver == 'saga'))\n\u001b[0m\u001b[0;32m    802\u001b[0m \u001b[1;33m\u001b[0m\u001b[0m\n\u001b[0;32m    803\u001b[0m         \u001b[1;32melse\u001b[0m\u001b[1;33m:\u001b[0m\u001b[1;33m\u001b[0m\u001b[1;33m\u001b[0m\u001b[0m\n",
      "\u001b[1;32mc:\\ml\\my_env\\lib\\site-packages\\sklearn\\utils\\validation.py\u001b[0m in \u001b[0;36minner_f\u001b[1;34m(*args, **kwargs)\u001b[0m\n\u001b[0;32m     70\u001b[0m                           FutureWarning)\n\u001b[0;32m     71\u001b[0m         \u001b[0mkwargs\u001b[0m\u001b[1;33m.\u001b[0m\u001b[0mupdate\u001b[0m\u001b[1;33m(\u001b[0m\u001b[1;33m{\u001b[0m\u001b[0mk\u001b[0m\u001b[1;33m:\u001b[0m \u001b[0marg\u001b[0m \u001b[1;32mfor\u001b[0m \u001b[0mk\u001b[0m\u001b[1;33m,\u001b[0m \u001b[0marg\u001b[0m \u001b[1;32min\u001b[0m \u001b[0mzip\u001b[0m\u001b[1;33m(\u001b[0m\u001b[0msig\u001b[0m\u001b[1;33m.\u001b[0m\u001b[0mparameters\u001b[0m\u001b[1;33m,\u001b[0m \u001b[0margs\u001b[0m\u001b[1;33m)\u001b[0m\u001b[1;33m}\u001b[0m\u001b[1;33m)\u001b[0m\u001b[1;33m\u001b[0m\u001b[1;33m\u001b[0m\u001b[0m\n\u001b[1;32m---> 72\u001b[1;33m         \u001b[1;32mreturn\u001b[0m \u001b[0mf\u001b[0m\u001b[1;33m(\u001b[0m\u001b[1;33m**\u001b[0m\u001b[0mkwargs\u001b[0m\u001b[1;33m)\u001b[0m\u001b[1;33m\u001b[0m\u001b[1;33m\u001b[0m\u001b[0m\n\u001b[0m\u001b[0;32m     73\u001b[0m     \u001b[1;32mreturn\u001b[0m \u001b[0minner_f\u001b[0m\u001b[1;33m\u001b[0m\u001b[1;33m\u001b[0m\u001b[0m\n\u001b[0;32m     74\u001b[0m \u001b[1;33m\u001b[0m\u001b[0m\n",
      "\u001b[1;32mc:\\ml\\my_env\\lib\\site-packages\\sklearn\\linear_model\\_sag.py\u001b[0m in \u001b[0;36msag_solver\u001b[1;34m(X, y, sample_weight, loss, alpha, beta, max_iter, tol, verbose, random_state, check_input, max_squared_sum, warm_start_mem, is_saga)\u001b[0m\n\u001b[0;32m    324\u001b[0m                             \u001b[0mintercept_decay\u001b[0m\u001b[1;33m,\u001b[0m\u001b[1;33m\u001b[0m\u001b[1;33m\u001b[0m\u001b[0m\n\u001b[0;32m    325\u001b[0m                             \u001b[0mis_saga\u001b[0m\u001b[1;33m,\u001b[0m\u001b[1;33m\u001b[0m\u001b[1;33m\u001b[0m\u001b[0m\n\u001b[1;32m--> 326\u001b[1;33m                             verbose)\n\u001b[0m\u001b[0;32m    327\u001b[0m \u001b[1;33m\u001b[0m\u001b[0m\n\u001b[0;32m    328\u001b[0m     \u001b[1;32mif\u001b[0m \u001b[0mn_iter_\u001b[0m \u001b[1;33m==\u001b[0m \u001b[0mmax_iter\u001b[0m\u001b[1;33m:\u001b[0m\u001b[1;33m\u001b[0m\u001b[1;33m\u001b[0m\u001b[0m\n",
      "\u001b[1;31mKeyboardInterrupt\u001b[0m: "
     ]
    }
   ],
   "source": [
    "from sklearn.model_selection import GridSearchCV\n",
    "\n",
    "log_clf = LogisticRegression(max_iter=10000)\n",
    "\n",
    "param_grid = [\n",
    "    {'fit_intercept': [True, False], 'class_weight': [\"balanced\", None], \n",
    "     'solver': [\"lbfgs\", \"newton-cg\", 'liblinear', 'sag', 'saga'], 'random_state': [0, 2, 4, 6, 12, 24, 48]}\n",
    "  ]\n",
    "\n",
    "# train across 5 folds, that's a total of (12+6)*5=90 rounds of training \n",
    "grid_search = GridSearchCV(log_clf, param_grid, cv=5,\n",
    "                           scoring='accuracy',\n",
    "                           return_train_score=True)\n",
    "grid_search.fit(copyX_train, y_train)"
   ]
  },
  {
   "cell_type": "code",
   "execution_count": 314,
   "metadata": {},
   "outputs": [
    {
     "data": {
      "text/plain": [
       "{'class_weight': None, 'fit_intercept': True, 'solver': 'lbfgs'}"
      ]
     },
     "execution_count": 314,
     "metadata": {},
     "output_type": "execute_result"
    }
   ],
   "source": [
    "grid_search.best_params_"
   ]
  },
  {
   "cell_type": "code",
   "execution_count": 315,
   "metadata": {},
   "outputs": [],
   "source": [
    "log_reg = LogisticRegression(max_iter=10000, fit_intercept=True, solver=\"lbfgs\")"
   ]
  },
  {
   "cell_type": "code",
   "execution_count": 316,
   "metadata": {},
   "outputs": [
    {
     "data": {
      "text/plain": [
       "array([0.7605042 , 0.79324895, 0.76793249])"
      ]
     },
     "execution_count": 316,
     "metadata": {},
     "output_type": "execute_result"
    }
   ],
   "source": [
    "cross_val_score(log_reg, copyX_train, y_train, cv=3, scoring=\"accuracy\")"
   ]
  },
  {
   "cell_type": "code",
   "execution_count": 332,
   "metadata": {},
   "outputs": [
    {
     "data": {
      "text/plain": [
       "GridSearchCV(cv=5, estimator=SGDClassifier(),\n",
       "             param_grid=[{'eta0': [0.01], 'fit_intercept': [True, False],\n",
       "                          'learning_rate': ['adaptive', 'optimal'],\n",
       "                          'loss': ['hinge', 'log', 'modified_huber',\n",
       "                                   'squared_hinge', 'perceptron'],\n",
       "                          'penalty': ['l1', 'l2', 'elasticnet']}],\n",
       "             scoring='accuracy')"
      ]
     },
     "execution_count": 332,
     "metadata": {},
     "output_type": "execute_result"
    }
   ],
   "source": [
    "from sklearn.linear_model import SGDClassifier\n",
    "sgd_clf = SGDClassifier()\n",
    "\n",
    "param_grid = [\n",
    "    {'fit_intercept': [True, False], 'eta0': [0.01], 'learning_rate': ['adaptive', 'optimal'], 'loss': ['hinge', 'log', 'modified_huber', 'squared_hinge', 'perceptron'], \"penalty\": [\"l1\", \"l2\", \"elasticnet\"],\n",
    "    }\n",
    "  ]\n",
    "\n",
    "# train across 5 folds, that's a total of (12+6)*5=90 rounds of training \n",
    "grid_search = GridSearchCV(sgd_clf, param_grid, cv=5,\n",
    "                           scoring='accuracy',)\n",
    "grid_search.fit(copyX_train, y_train)"
   ]
  },
  {
   "cell_type": "code",
   "execution_count": 333,
   "metadata": {},
   "outputs": [
    {
     "data": {
      "text/plain": [
       "{'eta0': 0.01,\n",
       " 'fit_intercept': True,\n",
       " 'learning_rate': 'adaptive',\n",
       " 'loss': 'log',\n",
       " 'penalty': 'l2'}"
      ]
     },
     "execution_count": 333,
     "metadata": {},
     "output_type": "execute_result"
    }
   ],
   "source": [
    "grid_search.best_params_"
   ]
  },
  {
   "cell_type": "code",
   "execution_count": 335,
   "metadata": {},
   "outputs": [],
   "source": [
    "sgd_clf = SGDClassifier(class_weight = 'balanced',\n",
    " fit_intercept = True,\n",
    "  loss = \"log\",\n",
    " penalty =  \"l2\",\n",
    "learning_rate = \"adaptive\",\n",
    "                       eta0 = 0.01)"
   ]
  },
  {
   "cell_type": "code",
   "execution_count": 337,
   "metadata": {},
   "outputs": [
    {
     "data": {
      "text/plain": [
       "array([0.78321678, 0.78321678, 0.8028169 , 0.75352113, 0.76056338])"
      ]
     },
     "execution_count": 337,
     "metadata": {},
     "output_type": "execute_result"
    }
   ],
   "source": [
    "cross_val_score(sgd_clf, copyX_train, y_train, cv=5, scoring=\"accuracy\")"
   ]
  },
  {
   "cell_type": "code",
   "execution_count": 339,
   "metadata": {},
   "outputs": [
    {
     "data": {
      "text/plain": [
       "KNeighborsClassifier()"
      ]
     },
     "execution_count": 339,
     "metadata": {},
     "output_type": "execute_result"
    }
   ],
   "source": [
    "from sklearn.neighbors import KNeighborsClassifier\n",
    "\n",
    "knn_clf = KNeighborsClassifier()\n",
    "knn_clf.fit(copyX_train, y_train)"
   ]
  },
  {
   "cell_type": "code",
   "execution_count": 340,
   "metadata": {},
   "outputs": [
    {
     "data": {
      "text/plain": [
       "array([0.65034965, 0.68531469, 0.76056338, 0.76760563, 0.76760563])"
      ]
     },
     "execution_count": 340,
     "metadata": {},
     "output_type": "execute_result"
    }
   ],
   "source": [
    "cross_val_score(knn_clf, copyX_train, y_train, cv=5, scoring=\"accuracy\")"
   ]
  },
  {
   "cell_type": "code",
   "execution_count": 346,
   "metadata": {},
   "outputs": [
    {
     "data": {
      "text/plain": [
       "GridSearchCV(cv=5, estimator=KNeighborsClassifier(),\n",
       "             param_grid=[{'algorithm': ['brute', 'ball_tree', 'kd_tree',\n",
       "                                        'auto'],\n",
       "                          'n_neighbors': [1, 2, 3, 4, 5, 6, 8, 10],\n",
       "                          'weights': ['uniform', 'distance']}],\n",
       "             scoring='accuracy')"
      ]
     },
     "execution_count": 346,
     "metadata": {},
     "output_type": "execute_result"
    }
   ],
   "source": [
    "knn_clf = KNeighborsClassifier()\n",
    "\n",
    "param_grid = [\n",
    "    {'n_neighbors': [1, 2, 3, 4, 5, 6, 8, 10], 'weights': [\"uniform\", \"distance\"], 'algorithm': [\"brute\", 'ball_tree', 'kd_tree',  \"auto\"]\n",
    "    }\n",
    "  ]\n",
    "\n",
    "# train across 5 folds, that's a total of (12+6)*5=90 rounds of training \n",
    "grid_search = GridSearchCV(knn_clf, param_grid, cv=5,\n",
    "                           scoring='accuracy',)\n",
    "grid_search.fit(copyX_train, y_train)"
   ]
  },
  {
   "cell_type": "code",
   "execution_count": 347,
   "metadata": {},
   "outputs": [
    {
     "data": {
      "text/plain": [
       "{'algorithm': 'ball_tree', 'n_neighbors': 3, 'weights': 'distance'}"
      ]
     },
     "execution_count": 347,
     "metadata": {},
     "output_type": "execute_result"
    }
   ],
   "source": [
    "grid_search.best_params_\n"
   ]
  },
  {
   "cell_type": "code",
   "execution_count": 348,
   "metadata": {},
   "outputs": [],
   "source": [
    "knn_clf = KNeighborsClassifier(algorithm = \"ball_tree\", n_neighbors = 3, weights = \"distance\")"
   ]
  },
  {
   "cell_type": "code",
   "execution_count": 349,
   "metadata": {},
   "outputs": [
    {
     "data": {
      "text/plain": [
       "array([0.70629371, 0.71328671, 0.71126761, 0.75352113, 0.78169014])"
      ]
     },
     "execution_count": 349,
     "metadata": {},
     "output_type": "execute_result"
    }
   ],
   "source": [
    "cross_val_score(knn_clf, copyX_train, y_train, cv=5, scoring=\"accuracy\")"
   ]
  },
  {
   "cell_type": "code",
   "execution_count": 366,
   "metadata": {},
   "outputs": [
    {
     "name": "stdout",
     "output_type": "stream",
     "text": [
      "Iteration 1, loss = 10.92866364\n",
      "Iteration 2, loss = 0.67097992\n",
      "Iteration 3, loss = 0.67481049\n",
      "Iteration 4, loss = 0.67941966\n",
      "Iteration 5, loss = 0.69540671\n",
      "Iteration 6, loss = 0.68919179\n",
      "Iteration 7, loss = 0.69348015\n",
      "Iteration 8, loss = 0.69489942\n",
      "Iteration 9, loss = 0.69583309\n",
      "Iteration 10, loss = 0.69647928\n"
     ]
    }
   ],
   "source": [
    "import warnings\n",
    "from sklearn.neural_network import MLPClassifier\n",
    "from sklearn.exceptions import ConvergenceWarning\n",
    "mlp = MLPClassifier()\n",
    "\n",
    "param_grid = [\n",
    "    {'hidden_layer_sizes'=(70,), max_iter=10, alpha=1e-4,\n",
    "                    solver='sgd', verbose=10, random_state=1,\n",
    "                    learning_rate_init=.1]\n",
    "    }\n",
    "  ]\n",
    "\n",
    "# train across 5 folds, that's a total of (12+6)*5=90 rounds of training \n",
    "grid_search = GridSearchCV(knn_clf, param_grid, cv=5,\n",
    "                           scoring='accuracy',)\n",
    "grid_search.fit(copyX_train, y_train)\n",
    "\n",
    "\n",
    "\n",
    "# this example won't converge because of CI's time constraints, so we catch the\n",
    "# warning and are ignore it here\n",
    "with warnings.catch_warnings():\n",
    "    warnings.filterwarnings(\"ignore\", category=ConvergenceWarning,\n",
    "                            module=\"sklearn\")\n",
    "    mlp.fit(copyX_train, y_train)"
   ]
  },
  {
   "cell_type": "code",
   "execution_count": 360,
   "metadata": {},
   "outputs": [
    {
     "name": "stdout",
     "output_type": "stream",
     "text": [
      "Iteration 1, loss = 11.69980444\n",
      "Iteration 2, loss = 0.66484333\n",
      "Iteration 3, loss = 0.66701554\n",
      "Iteration 4, loss = 0.67055672\n",
      "Iteration 5, loss = 0.67503009\n",
      "Iteration 6, loss = 0.67858543\n",
      "Iteration 7, loss = 0.68058341\n",
      "Iteration 8, loss = 0.68153847\n",
      "Iteration 9, loss = 0.68195112\n",
      "Iteration 10, loss = 0.68279858\n",
      "Iteration 1, loss = 11.32331530\n",
      "Iteration 2, loss = 0.66038799\n",
      "Iteration 3, loss = 0.65757583\n",
      "Iteration 4, loss = 0.66308161\n",
      "Iteration 5, loss = 0.68705087\n",
      "Iteration 6, loss = 0.67494165\n",
      "Iteration 7, loss = 0.68084556\n",
      "Iteration 8, loss = 0.68281456\n",
      "Iteration 9, loss = 0.68207898\n",
      "Iteration 10, loss = 0.67940808\n",
      "Iteration 1, loss = 13.59950992\n",
      "Iteration 2, loss = 0.66830885\n",
      "Iteration 3, loss = 0.66904690\n",
      "Iteration 4, loss = 0.67081548\n",
      "Iteration 5, loss = 0.67229273\n",
      "Iteration 6, loss = 0.67489328\n",
      "Iteration 7, loss = 0.67690557\n",
      "Iteration 8, loss = 0.67835104\n",
      "Iteration 9, loss = 0.67942329\n",
      "Iteration 10, loss = 0.68015075\n"
     ]
    },
    {
     "name": "stderr",
     "output_type": "stream",
     "text": [
      "c:\\ml\\my_env\\lib\\site-packages\\sklearn\\neural_network\\_multilayer_perceptron.py:585: ConvergenceWarning: Stochastic Optimizer: Maximum iterations (10) reached and the optimization hasn't converged yet.\n",
      "  % self.max_iter, ConvergenceWarning)\n",
      "c:\\ml\\my_env\\lib\\site-packages\\sklearn\\neural_network\\_multilayer_perceptron.py:585: ConvergenceWarning: Stochastic Optimizer: Maximum iterations (10) reached and the optimization hasn't converged yet.\n",
      "  % self.max_iter, ConvergenceWarning)\n",
      "c:\\ml\\my_env\\lib\\site-packages\\sklearn\\neural_network\\_multilayer_perceptron.py:585: ConvergenceWarning: Stochastic Optimizer: Maximum iterations (10) reached and the optimization hasn't converged yet.\n",
      "  % self.max_iter, ConvergenceWarning)\n"
     ]
    },
    {
     "data": {
      "text/plain": [
       "array([0.6302521 , 0.62869198, 0.62869198])"
      ]
     },
     "execution_count": 360,
     "metadata": {},
     "output_type": "execute_result"
    }
   ],
   "source": [
    "cross_val_score(mlp, copyX_train, y_train, cv=3, scoring=\"accuracy\")"
   ]
  },
  {
   "cell_type": "code",
   "execution_count": 368,
   "metadata": {},
   "outputs": [
    {
     "data": {
      "text/html": [
       "<div>\n",
       "<style scoped>\n",
       "    .dataframe tbody tr th:only-of-type {\n",
       "        vertical-align: middle;\n",
       "    }\n",
       "\n",
       "    .dataframe tbody tr th {\n",
       "        vertical-align: top;\n",
       "    }\n",
       "\n",
       "    .dataframe thead th {\n",
       "        text-align: right;\n",
       "    }\n",
       "</style>\n",
       "<table border=\"1\" class=\"dataframe\">\n",
       "  <thead>\n",
       "    <tr style=\"text-align: right;\">\n",
       "      <th></th>\n",
       "      <th>Pclass</th>\n",
       "      <th>Sex</th>\n",
       "      <th>Fare</th>\n",
       "      <th>Embarked</th>\n",
       "      <th>First_Digit</th>\n",
       "      <th>Age_Clf</th>\n",
       "      <th>Cabin_First_Digit</th>\n",
       "      <th>Family_Member</th>\n",
       "    </tr>\n",
       "  </thead>\n",
       "  <tbody>\n",
       "    <tr>\n",
       "      <th>count</th>\n",
       "      <td>712.000000</td>\n",
       "      <td>712.000000</td>\n",
       "      <td>712.000000</td>\n",
       "      <td>712.000000</td>\n",
       "      <td>712.000000</td>\n",
       "      <td>712.000000</td>\n",
       "      <td>712.000000</td>\n",
       "      <td>712.000000</td>\n",
       "    </tr>\n",
       "    <tr>\n",
       "      <th>mean</th>\n",
       "      <td>2.307584</td>\n",
       "      <td>0.662921</td>\n",
       "      <td>31.568872</td>\n",
       "      <td>79.924157</td>\n",
       "      <td>57.001404</td>\n",
       "      <td>0.734551</td>\n",
       "      <td>14.596910</td>\n",
       "      <td>0.401685</td>\n",
       "    </tr>\n",
       "    <tr>\n",
       "      <th>std</th>\n",
       "      <td>0.836609</td>\n",
       "      <td>0.473044</td>\n",
       "      <td>45.918465</td>\n",
       "      <td>6.109630</td>\n",
       "      <td>11.974128</td>\n",
       "      <td>1.087475</td>\n",
       "      <td>28.773359</td>\n",
       "      <td>0.490584</td>\n",
       "    </tr>\n",
       "    <tr>\n",
       "      <th>min</th>\n",
       "      <td>1.000000</td>\n",
       "      <td>0.000000</td>\n",
       "      <td>0.000000</td>\n",
       "      <td>67.000000</td>\n",
       "      <td>49.000000</td>\n",
       "      <td>-1.000000</td>\n",
       "      <td>-1.000000</td>\n",
       "      <td>0.000000</td>\n",
       "    </tr>\n",
       "    <tr>\n",
       "      <th>25%</th>\n",
       "      <td>2.000000</td>\n",
       "      <td>0.000000</td>\n",
       "      <td>7.895800</td>\n",
       "      <td>81.000000</td>\n",
       "      <td>50.000000</td>\n",
       "      <td>0.000000</td>\n",
       "      <td>-1.000000</td>\n",
       "      <td>0.000000</td>\n",
       "    </tr>\n",
       "    <tr>\n",
       "      <th>50%</th>\n",
       "      <td>3.000000</td>\n",
       "      <td>1.000000</td>\n",
       "      <td>14.458300</td>\n",
       "      <td>83.000000</td>\n",
       "      <td>51.000000</td>\n",
       "      <td>1.000000</td>\n",
       "      <td>-1.000000</td>\n",
       "      <td>0.000000</td>\n",
       "    </tr>\n",
       "    <tr>\n",
       "      <th>75%</th>\n",
       "      <td>3.000000</td>\n",
       "      <td>1.000000</td>\n",
       "      <td>31.275000</td>\n",
       "      <td>83.000000</td>\n",
       "      <td>65.000000</td>\n",
       "      <td>1.000000</td>\n",
       "      <td>-1.000000</td>\n",
       "      <td>1.000000</td>\n",
       "    </tr>\n",
       "    <tr>\n",
       "      <th>max</th>\n",
       "      <td>3.000000</td>\n",
       "      <td>1.000000</td>\n",
       "      <td>512.329200</td>\n",
       "      <td>83.000000</td>\n",
       "      <td>87.000000</td>\n",
       "      <td>3.000000</td>\n",
       "      <td>84.000000</td>\n",
       "      <td>1.000000</td>\n",
       "    </tr>\n",
       "  </tbody>\n",
       "</table>\n",
       "</div>"
      ],
      "text/plain": [
       "           Pclass         Sex        Fare    Embarked  First_Digit  \\\n",
       "count  712.000000  712.000000  712.000000  712.000000   712.000000   \n",
       "mean     2.307584    0.662921   31.568872   79.924157    57.001404   \n",
       "std      0.836609    0.473044   45.918465    6.109630    11.974128   \n",
       "min      1.000000    0.000000    0.000000   67.000000    49.000000   \n",
       "25%      2.000000    0.000000    7.895800   81.000000    50.000000   \n",
       "50%      3.000000    1.000000   14.458300   83.000000    51.000000   \n",
       "75%      3.000000    1.000000   31.275000   83.000000    65.000000   \n",
       "max      3.000000    1.000000  512.329200   83.000000    87.000000   \n",
       "\n",
       "          Age_Clf  Cabin_First_Digit  Family_Member  \n",
       "count  712.000000         712.000000     712.000000  \n",
       "mean     0.734551          14.596910       0.401685  \n",
       "std      1.087475          28.773359       0.490584  \n",
       "min     -1.000000          -1.000000       0.000000  \n",
       "25%      0.000000          -1.000000       0.000000  \n",
       "50%      1.000000          -1.000000       0.000000  \n",
       "75%      1.000000          -1.000000       1.000000  \n",
       "max      3.000000          84.000000       1.000000  "
      ]
     },
     "execution_count": 368,
     "metadata": {},
     "output_type": "execute_result"
    }
   ],
   "source": [
    "copyX_train.describe()"
   ]
  },
  {
   "cell_type": "code",
   "execution_count": 371,
   "metadata": {},
   "outputs": [
    {
     "name": "stdout",
     "output_type": "stream",
     "text": [
      "712\n"
     ]
    }
   ],
   "source": [
    "newFare = []\n",
    "for x in copyX_train[\"Fare\"]:\n",
    "    if x >= 0 and x <= 8:\n",
    "        newFare.append(0)\n",
    "    elif x > 8 and x <= 14:\n",
    "        newFare.append(1)\n",
    "    elif x > 14 and x <= 32:\n",
    "        newFare.append(2)\n",
    "    else:\n",
    "        newFare.append(3)\n",
    "print(len(newFare))\n",
    "copyX_train[\"Fare\"] = newFare"
   ]
  },
  {
   "cell_type": "code",
   "execution_count": 372,
   "metadata": {},
   "outputs": [],
   "source": [
    "copyX_train = copyX_train.drop(\"Cabin_First_Digit\", axis = 1)"
   ]
  },
  {
   "cell_type": "code",
   "execution_count": 373,
   "metadata": {},
   "outputs": [
    {
     "name": "stdout",
     "output_type": "stream",
     "text": [
      "<class 'pandas.core.frame.DataFrame'>\n",
      "Int64Index: 712 entries, 0 to 890\n",
      "Data columns (total 7 columns):\n",
      " #   Column         Non-Null Count  Dtype  \n",
      "---  ------         --------------  -----  \n",
      " 0   Pclass         712 non-null    int64  \n",
      " 1   Sex            712 non-null    float64\n",
      " 2   Fare           712 non-null    int64  \n",
      " 3   Embarked       712 non-null    int64  \n",
      " 4   First_Digit    712 non-null    int64  \n",
      " 5   Age_Clf        712 non-null    int64  \n",
      " 6   Family_Member  712 non-null    int64  \n",
      "dtypes: float64(1), int64(6)\n",
      "memory usage: 44.5 KB\n"
     ]
    }
   ],
   "source": [
    "copyX_train.info()"
   ]
  },
  {
   "cell_type": "code",
   "execution_count": 374,
   "metadata": {},
   "outputs": [
    {
     "data": {
      "text/plain": [
       "2    197\n",
       "0    196\n",
       "3    169\n",
       "1    150\n",
       "Name: Fare, dtype: int64"
      ]
     },
     "execution_count": 374,
     "metadata": {},
     "output_type": "execute_result"
    }
   ],
   "source": [
    "copyX_train[\"Fare\"].value_counts()"
   ]
  },
  {
   "cell_type": "code",
   "execution_count": 375,
   "metadata": {},
   "outputs": [
    {
     "data": {
      "text/html": [
       "<div>\n",
       "<style scoped>\n",
       "    .dataframe tbody tr th:only-of-type {\n",
       "        vertical-align: middle;\n",
       "    }\n",
       "\n",
       "    .dataframe tbody tr th {\n",
       "        vertical-align: top;\n",
       "    }\n",
       "\n",
       "    .dataframe thead th {\n",
       "        text-align: right;\n",
       "    }\n",
       "</style>\n",
       "<table border=\"1\" class=\"dataframe\">\n",
       "  <thead>\n",
       "    <tr style=\"text-align: right;\">\n",
       "      <th></th>\n",
       "      <th>Pclass</th>\n",
       "      <th>Sex</th>\n",
       "      <th>Fare</th>\n",
       "      <th>Embarked</th>\n",
       "      <th>First_Digit</th>\n",
       "      <th>Age_Clf</th>\n",
       "      <th>Family_Member</th>\n",
       "    </tr>\n",
       "  </thead>\n",
       "  <tbody>\n",
       "    <tr>\n",
       "      <th>count</th>\n",
       "      <td>712.000000</td>\n",
       "      <td>712.000000</td>\n",
       "      <td>712.000000</td>\n",
       "      <td>712.000000</td>\n",
       "      <td>712.000000</td>\n",
       "      <td>712.000000</td>\n",
       "      <td>712.000000</td>\n",
       "    </tr>\n",
       "    <tr>\n",
       "      <th>mean</th>\n",
       "      <td>2.307584</td>\n",
       "      <td>0.662921</td>\n",
       "      <td>1.476124</td>\n",
       "      <td>79.924157</td>\n",
       "      <td>57.001404</td>\n",
       "      <td>0.734551</td>\n",
       "      <td>0.401685</td>\n",
       "    </tr>\n",
       "    <tr>\n",
       "      <th>std</th>\n",
       "      <td>0.836609</td>\n",
       "      <td>0.473044</td>\n",
       "      <td>1.129825</td>\n",
       "      <td>6.109630</td>\n",
       "      <td>11.974128</td>\n",
       "      <td>1.087475</td>\n",
       "      <td>0.490584</td>\n",
       "    </tr>\n",
       "    <tr>\n",
       "      <th>min</th>\n",
       "      <td>1.000000</td>\n",
       "      <td>0.000000</td>\n",
       "      <td>0.000000</td>\n",
       "      <td>67.000000</td>\n",
       "      <td>49.000000</td>\n",
       "      <td>-1.000000</td>\n",
       "      <td>0.000000</td>\n",
       "    </tr>\n",
       "    <tr>\n",
       "      <th>25%</th>\n",
       "      <td>2.000000</td>\n",
       "      <td>0.000000</td>\n",
       "      <td>0.000000</td>\n",
       "      <td>81.000000</td>\n",
       "      <td>50.000000</td>\n",
       "      <td>0.000000</td>\n",
       "      <td>0.000000</td>\n",
       "    </tr>\n",
       "    <tr>\n",
       "      <th>50%</th>\n",
       "      <td>3.000000</td>\n",
       "      <td>1.000000</td>\n",
       "      <td>2.000000</td>\n",
       "      <td>83.000000</td>\n",
       "      <td>51.000000</td>\n",
       "      <td>1.000000</td>\n",
       "      <td>0.000000</td>\n",
       "    </tr>\n",
       "    <tr>\n",
       "      <th>75%</th>\n",
       "      <td>3.000000</td>\n",
       "      <td>1.000000</td>\n",
       "      <td>2.000000</td>\n",
       "      <td>83.000000</td>\n",
       "      <td>65.000000</td>\n",
       "      <td>1.000000</td>\n",
       "      <td>1.000000</td>\n",
       "    </tr>\n",
       "    <tr>\n",
       "      <th>max</th>\n",
       "      <td>3.000000</td>\n",
       "      <td>1.000000</td>\n",
       "      <td>3.000000</td>\n",
       "      <td>83.000000</td>\n",
       "      <td>87.000000</td>\n",
       "      <td>3.000000</td>\n",
       "      <td>1.000000</td>\n",
       "    </tr>\n",
       "  </tbody>\n",
       "</table>\n",
       "</div>"
      ],
      "text/plain": [
       "           Pclass         Sex        Fare    Embarked  First_Digit  \\\n",
       "count  712.000000  712.000000  712.000000  712.000000   712.000000   \n",
       "mean     2.307584    0.662921    1.476124   79.924157    57.001404   \n",
       "std      0.836609    0.473044    1.129825    6.109630    11.974128   \n",
       "min      1.000000    0.000000    0.000000   67.000000    49.000000   \n",
       "25%      2.000000    0.000000    0.000000   81.000000    50.000000   \n",
       "50%      3.000000    1.000000    2.000000   83.000000    51.000000   \n",
       "75%      3.000000    1.000000    2.000000   83.000000    65.000000   \n",
       "max      3.000000    1.000000    3.000000   83.000000    87.000000   \n",
       "\n",
       "          Age_Clf  Family_Member  \n",
       "count  712.000000     712.000000  \n",
       "mean     0.734551       0.401685  \n",
       "std      1.087475       0.490584  \n",
       "min     -1.000000       0.000000  \n",
       "25%      0.000000       0.000000  \n",
       "50%      1.000000       0.000000  \n",
       "75%      1.000000       1.000000  \n",
       "max      3.000000       1.000000  "
      ]
     },
     "execution_count": 375,
     "metadata": {},
     "output_type": "execute_result"
    }
   ],
   "source": [
    "copyX_train.describe()"
   ]
  },
  {
   "cell_type": "code",
   "execution_count": 399,
   "metadata": {},
   "outputs": [
    {
     "data": {
      "text/plain": [
       "GridSearchCV(cv=5, estimator=LogisticRegression(max_iter=3000),\n",
       "             param_grid=[{'class_weight': ['balanced', None],\n",
       "                          'fit_intercept': [True, False], 'penalty': ['l2'],\n",
       "                          'random_state': [0, 2, 4, 6, 12, 24, 48],\n",
       "                          'solver': ['lbfgs', 'newton-cg', 'liblinear', 'sag',\n",
       "                                     'saga']}],\n",
       "             return_train_score=True, scoring='accuracy')"
      ]
     },
     "execution_count": 399,
     "metadata": {},
     "output_type": "execute_result"
    }
   ],
   "source": [
    "from sklearn.model_selection import GridSearchCV\n",
    "\n",
    "log_clf = LogisticRegression(max_iter=3000)\n",
    "\n",
    "param_grid = [\n",
    "    {'fit_intercept': [True, False], 'class_weight': [\"balanced\", None],  'penalty': [\"l2\"],\n",
    "     'solver': [\"lbfgs\", \"newton-cg\", 'liblinear', 'sag', 'saga'], 'random_state': [0, 2, 4, 6, 12, 24, 48]}\n",
    "  ]\n",
    "\n",
    "# train across 5 folds, that's a total of (12+6)*5=90 rounds of training \n",
    "grid_search = GridSearchCV(log_clf, param_grid, cv=5,\n",
    "                           scoring='accuracy',\n",
    "                           return_train_score=True)\n",
    "grid_search.fit(copyX_train, y_train)\n"
   ]
  },
  {
   "cell_type": "code",
   "execution_count": 401,
   "metadata": {},
   "outputs": [
    {
     "data": {
      "text/plain": [
       "{'class_weight': None,\n",
       " 'fit_intercept': True,\n",
       " 'penalty': 'l2',\n",
       " 'random_state': 0,\n",
       " 'solver': 'lbfgs'}"
      ]
     },
     "execution_count": 401,
     "metadata": {},
     "output_type": "execute_result"
    }
   ],
   "source": [
    "grid_search.best_params_\n"
   ]
  },
  {
   "cell_type": "code",
   "execution_count": 408,
   "metadata": {},
   "outputs": [
    {
     "data": {
      "text/plain": [
       "array([0.76890756, 0.79324895, 0.7721519 ])"
      ]
     },
     "execution_count": 408,
     "metadata": {},
     "output_type": "execute_result"
    }
   ],
   "source": [
    "\n",
    "log_clf = LogisticRegression(class_weight = None, fit_intercept = True, penalty = \"l2\", random_state=42, solver=\"lbfgs\", max_iter=3000)\n",
    "cross_val_score(log_clf, copyX_train, y_train, cv=3, scoring=\"accuracy\")"
   ]
  },
  {
   "cell_type": "code",
   "execution_count": 415,
   "metadata": {},
   "outputs": [
    {
     "data": {
      "text/plain": [
       "array([0.78321678, 0.76923077, 0.8028169 , 0.79577465, 0.82394366])"
      ]
     },
     "execution_count": 415,
     "metadata": {},
     "output_type": "execute_result"
    }
   ],
   "source": [
    "from sklearn.ensemble import RandomForestClassifier\n",
    "\n",
    "forest_clf = RandomForestClassifier(n_estimators=100, random_state=42, class_weight=\"balanced_subsample\", criterion=\"entropy\")\n",
    "cross_val_score(forest_clf, copyX_train, y_train, cv=5, scoring = \"accuracy\")\n"
   ]
  },
  {
   "cell_type": "code",
   "execution_count": null,
   "metadata": {},
   "outputs": [],
   "source": []
  }
 ],
 "metadata": {
  "kernelspec": {
   "display_name": "Python 3",
   "language": "python",
   "name": "python3"
  },
  "language_info": {
   "codemirror_mode": {
    "name": "ipython",
    "version": 3
   },
   "file_extension": ".py",
   "mimetype": "text/x-python",
   "name": "python",
   "nbconvert_exporter": "python",
   "pygments_lexer": "ipython3",
   "version": "3.7.9"
  }
 },
 "nbformat": 4,
 "nbformat_minor": 4
}
